{
  "nbformat": 4,
  "nbformat_minor": 0,
  "metadata": {
    "colab": {
      "provenance": [],
      "include_colab_link": true
    },
    "kernelspec": {
      "name": "python3",
      "display_name": "Python 3"
    },
    "language_info": {
      "name": "python"
    }
  },
  "cells": [
    {
      "cell_type": "markdown",
      "metadata": {
        "id": "view-in-github",
        "colab_type": "text"
      },
      "source": [
        "<a href=\"https://colab.research.google.com/github/cthitch137/PHYS250/blob/main/Collin_Hitchcock_Practice_Quiz1_functions_and_plotting.ipynb\" target=\"_parent\"><img src=\"https://colab.research.google.com/assets/colab-badge.svg\" alt=\"Open In Colab\"/></a>"
      ]
    },
    {
      "cell_type": "markdown",
      "source": [
        "# Quiz 1\n",
        "*written by Noah Franz*\n",
        "\n",
        "\n",
        "# Directions\n",
        "\n",
        "* Make a copy of this notebook and replace COPY with your LASTNAME_FIRSTNAME.\n",
        "* Please complete the Questions below - You can not use any resources except your brain!\n",
        "* Make sure to add comment strings for the function you write.\n",
        "* Be sure to comment your code so I can understand what you are thinking and give partial credit if needed.\n",
        "* Use descriptive variable names.\n",
        "\n",
        "# Submitting Your Notebook\n",
        "\n",
        "* Be sure to share your notebook with me.\n",
        "* Submit the link to the notebook to canvas. (Share -> Copy Link)"
      ],
      "metadata": {
        "id": "eM50FiavkJy9"
      }
    },
    {
      "cell_type": "markdown",
      "source": [
        "## Part 1\n",
        "\n",
        "Please write a function, `myfunc`, to describe the following equation:\n",
        "\n",
        "$$ y = \\frac{1}{\\sqrt{2\\pi}} ~ e^{-\\frac{x^2}{2}} $$\n",
        "\n",
        "The function should take in x-values as an input and return the corresponding y-values.\n",
        "\n",
        "*Hint*: compute the exponent of $e$ using `np.exp(x)`, where x is a numpy array of values"
      ],
      "metadata": {
        "id": "vaPcrmREePmY"
      }
    },
    {
      "cell_type": "code",
      "source": [
        "# import numpy and pyplot here\n",
        "import numpy as np\n",
        "import matplotlib.pyplot as plt"
      ],
      "metadata": {
        "id": "AxiWrUJGhHip"
      },
      "execution_count": null,
      "outputs": []
    },
    {
      "cell_type": "code",
      "source": [
        "# function goes here\n",
        "def myfunc(x):\n",
        "  \"\"\" Function for the Gaussian distribution equation \"\"\"\n",
        "  y = (1/(np.sqrt(2*np.pi)))*(np.exp(-(x**2)/2))\n",
        "\n",
        "  return y"
      ],
      "metadata": {
        "id": "40GHIGnRge_-"
      },
      "execution_count": null,
      "outputs": []
    },
    {
      "cell_type": "markdown",
      "source": [
        "## Part 2\n",
        "\n",
        "Test your function with the following values:\n",
        "* myfunc(0)\n",
        "* myfunc(1)\n",
        "* myfunc(-2)\n",
        "\n",
        "Display these values nicely formatted using f-strings."
      ],
      "metadata": {
        "id": "E3NNHX3-g5IP"
      }
    },
    {
      "cell_type": "code",
      "source": [
        "# tests go here\n",
        "print(f'When x = 0, y = {myfunc(0):.3f}')\n",
        "print(f'When x = 1, y = {myfunc(1):.3f}')\n",
        "print(f'When x = -2, y = {myfunc(-2):.3f}')"
      ],
      "metadata": {
        "id": "BJImSQ8fhB8C",
        "colab": {
          "base_uri": "https://localhost:8080/"
        },
        "outputId": "24f93df1-fbe0-4f1e-dd73-102f098a217f"
      },
      "execution_count": null,
      "outputs": [
        {
          "output_type": "stream",
          "name": "stdout",
          "text": [
            "When x = 0, y = 0.399\n",
            "When x = 0, y = 0.242\n",
            "When x = 0, y = 0.054\n"
          ]
        }
      ]
    },
    {
      "cell_type": "markdown",
      "source": [
        "## Part 3\n",
        "\n",
        "Please use the function from `Part 1` to make a plot.\n",
        "* Make an x array that ranges $-5\\leq x \\leq 5$ with 100 elements\n",
        "* create a y array using your function\n",
        "* make sure to label your axis"
      ],
      "metadata": {
        "id": "2-uPQZdBggkG"
      }
    },
    {
      "cell_type": "code",
      "source": [
        "# plotting code goes here\n",
        "xarray = np.linspace(-5,5,100)\n",
        "yarray = myfunc(xarray)\n",
        "\n",
        "plt.figure(figsize=(5,5))\n",
        "\n",
        "plt.plot(xarray,yarray)\n",
        "plt.xlabel('x values')\n",
        "plt.ylabel('y values')\n",
        "plt.title('Bell Curve Equation')"
      ],
      "metadata": {
        "id": "3c15wQEXfjcf",
        "colab": {
          "base_uri": "https://localhost:8080/",
          "height": 504
        },
        "outputId": "4300cc71-46b9-4692-c0ac-eea47ec736db"
      },
      "execution_count": null,
      "outputs": [
        {
          "output_type": "execute_result",
          "data": {
            "text/plain": [
              "Text(0.5, 1.0, 'Bell Curve Equation')"
            ]
          },
          "metadata": {},
          "execution_count": 12
        },
        {
          "output_type": "display_data",
          "data": {
            "text/plain": [
              "<Figure size 500x500 with 1 Axes>"
            ],
            "image/png": "[encoded data removed]"
          },
          "metadata": {}
        }
      ]
    },
    {
      "cell_type": "markdown",
      "source": [
        "## Extra Credit\n",
        "\n",
        "What is the name of this equation?\n",
        "\n",
        "Bell Curve equation"
      ],
      "metadata": {
        "id": "9EysPWh6j8AG"
      }
    }
  ]
}