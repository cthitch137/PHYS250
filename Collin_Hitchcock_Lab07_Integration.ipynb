{
  "nbformat": 4,
  "nbformat_minor": 0,
  "metadata": {
    "colab": {
      "provenance": [],
      "include_colab_link": true
    },
    "kernelspec": {
      "name": "python3",
      "display_name": "Python 3"
    },
    "language_info": {
      "name": "python"
    }
  },
  "cells": [
    {
      "cell_type": "markdown",
      "metadata": {
        "id": "view-in-github",
        "colab_type": "text"
      },
      "source": [
        "<a href=\"https://colab.research.google.com/github/cthitch137/PHYS250/blob/main/Collin_Hitchcock_Lab07_Integration.ipynb\" target=\"_parent\"><img src=\"https://colab.research.google.com/assets/colab-badge.svg\" alt=\"Open In Colab\"/></a>"
      ]
    },
    {
      "cell_type": "markdown",
      "source": [
        "# Lab 07: Numerical Integration\n",
        "\n",
        "* There are many techniques for implementing numerical integration.  In this lab, you will write code to implement the trapezoid method of integration.\n",
        "\n",
        "* You will use this function to calculate the integral in several different physical situations.\n",
        "\n",
        "* You will compare your function with python's built-it numerical integrators."
      ],
      "metadata": {
        "id": "xse95zEAUgb9"
      }
    },
    {
      "cell_type": "code",
      "execution_count": 154,
      "metadata": {
        "id": "to9v7ECGPTHI"
      },
      "outputs": [],
      "source": [
        "# import your modules here\n",
        "import numpy as np\n",
        "import matplotlib.pyplot as plt\n"
      ]
    },
    {
      "cell_type": "markdown",
      "source": [
        "# Part 1: Write a Function to Implement the Trapezoid Integration Method\n",
        "\n",
        "(5 points)\n",
        "\n",
        "Write a function called **trap** that does the following.\n",
        "\n",
        "Input:\n",
        "* array of y values\n",
        "* array of x values, spanning from from xmin to xmax\n",
        "\n",
        "\n",
        "Function should integrate using the trapezoid method.\n",
        "\n",
        "Return:\n",
        "* the integral of $f(x)$ between xmin and xmax"
      ],
      "metadata": {
        "id": "aiIJCQWpPW5i"
      }
    },
    {
      "cell_type": "code",
      "source": [
        "# write your function here\n",
        "def trap(x,y):\n",
        "  \"\"\"\n",
        "  Takes in arrays of x and y values\n",
        "\n",
        "  INPUTS:\n",
        "  x - array / list of x positions\n",
        "  y - array / list of y positions\n",
        "\n",
        "  RETURNS:\n",
        "  A - list of  integral values of y between x values using trapezoidal method\n",
        "  \"\"\"\n",
        "  A = 0\n",
        "  for i in range(1, len(x)):\n",
        "    A += 0.5 * (y[i-1] + y[i]) * (x[i] - x[i-1])\n",
        "  return A\n"
      ],
      "metadata": {
        "id": "dEtQF_6BP0BI"
      },
      "execution_count": 155,
      "outputs": []
    },
    {
      "cell_type": "markdown",
      "source": [
        "# Part 2:  Calculate the Area Under the Half Circle\n",
        "\n",
        "(10 points)\n",
        "\n",
        "In the pre-lab assignment, we estimated the area of a half circle using the trapezoid method.\n",
        "\n",
        "The general equation for a circle is:\n",
        "\n",
        "$$ r^2 = x^2 + y^2 $$\n",
        "\n",
        "For a circle of $r=2$, we can solve for the y coordinate:\n",
        "\n",
        "$$ f(x) = y = \\sqrt{2^2 - x^2} $$.\n",
        "\n",
        "\n",
        "### Write a function to return the y values of your circle\n",
        "\n",
        "* In the first cell below, write a function called **mycircle** that returns the y value of the circle.\n",
        "\n",
        "* let the radius be an optional argument, and set the default value to $r=2$.\n",
        "\n",
        "\n",
        "\n",
        "\n"
      ],
      "metadata": {
        "id": "GVYQZD_hIsgj"
      }
    },
    {
      "cell_type": "code",
      "source": [
        "# write your function mycircle here\n",
        "def mycircle(x, r = 2):\n",
        "  \"\"\"\n",
        "  Calculates y-values of a circle over a range of x-values\n",
        "\n",
        "  INPUTS:\n",
        "  x - array / list of x values\n",
        "  r - radius of circle (optional arguement), default set to 2\n",
        "\n",
        "  RETURNS:\n",
        "  y - list of y-values\n",
        "  \"\"\"\n",
        "  y = np.sqrt(r**2 - x**2)\n",
        "\n",
        "  return y\n"
      ],
      "metadata": {
        "id": "aQcI3aFGZXOT"
      },
      "execution_count": 156,
      "outputs": []
    },
    {
      "cell_type": "markdown",
      "source": [
        "### Calculate the area under the half circle using integration\n",
        "\n",
        "* In the next cell, set up an array of x values with $-2 \\le x \\le 2$, with 100 divisions between $-2$ and $2$.  \n",
        "* Calculate the corresponding y values using your **mycircle** function.\n",
        "\n",
        "* Then use your **trap** function to calculate the area under the circle.\n",
        "\n",
        "* Print the value of your area using a formatted print statement.  Print five decimal places."
      ],
      "metadata": {
        "id": "f1XsoJsAanUp"
      }
    },
    {
      "cell_type": "code",
      "source": [
        "x = np.linspace(-2,2,100)\n",
        "y = mycircle(x)\n",
        "\n",
        "A = trap(x, y)\n",
        "print(f\"The area under the curve of the circle from -2 to 2 is {A:.5f}\")"
      ],
      "metadata": {
        "id": "RG3AsBdIanBD",
        "colab": {
          "base_uri": "https://localhost:8080/"
        },
        "outputId": "85c0660b-b516-430c-89ed-2421345fb77a"
      },
      "execution_count": 157,
      "outputs": [
        {
          "output_type": "stream",
          "name": "stdout",
          "text": [
            "The area under the curve of the circle from -2 to 2 is 6.27644\n"
          ]
        }
      ]
    },
    {
      "cell_type": "markdown",
      "source": [
        "### Determine the Accuracy of Your Integral\n",
        "\n",
        "* Compare your answer with the accepted value of the integral.\n",
        "\n",
        "* Calculate and print your percent error."
      ],
      "metadata": {
        "id": "hzEpu9KQauef"
      }
    },
    {
      "cell_type": "code",
      "source": [
        "known = (0.5)*np.pi*2**2\n",
        "perc_error = ((known - A) / known) * 100\n",
        "print(perc_error)"
      ],
      "metadata": {
        "id": "_kpNnTcda2rf",
        "colab": {
          "base_uri": "https://localhost:8080/"
        },
        "outputId": "fb525580-ced1-4f4f-cfe3-401b70115fdf"
      },
      "execution_count": 158,
      "outputs": [
        {
          "output_type": "stream",
          "name": "stdout",
          "text": [
            "0.10741731217529554\n"
          ]
        }
      ]
    },
    {
      "cell_type": "markdown",
      "source": [
        "### The impact of the spacing in the x array\n",
        "\n",
        "* Repeat your above calculations, but divide the region $-2 \\le x \\le 2$ into 1000 steps.\n",
        "\n",
        "* You can copy all of the necessary code into one cell to simplify your calculation.\n",
        "\n",
        "* **SUMMARY**: describe how the accuracy of your integral changes as the size of the steps in the x direction decreases?\n",
        "\n",
        "**YOUR ANSWER HERE**\n",
        "\n"
      ],
      "metadata": {
        "id": "fvsETTnNa6aE"
      }
    },
    {
      "cell_type": "code",
      "source": [
        "x = np.linspace(-2,2,1000)\n",
        "y = mycircle(x)\n",
        "\n",
        "A = trap(x, y)\n",
        "print(f\"The area under the curve of the circle from -2 to 2 is {A:.5f}\")\n",
        "\n",
        "known = (0.5)*np.pi*2**2\n",
        "perc_error = ((known - A) / known) * 100\n",
        "print(perc_error)"
      ],
      "metadata": {
        "id": "tqnnaKTRcGsj",
        "colab": {
          "base_uri": "https://localhost:8080/"
        },
        "outputId": "4a5dc6cb-b589-4f02-9995-9795912b2621"
      },
      "execution_count": 159,
      "outputs": [
        {
          "output_type": "stream",
          "name": "stdout",
          "text": [
            "The area under the curve of the circle from -2 to 2 is 6.28297\n",
            "0.003352902655526221\n"
          ]
        }
      ]
    },
    {
      "cell_type": "markdown",
      "source": [
        "# Part 3: Integral of the Gaussian Distribution\n",
        "\n",
        "(10 points)\n",
        "\n",
        "The gaussian function (aka normal distribution) is:\n",
        "$$  f(x) = \\frac{1}{\\sqrt{2 \\pi} \\sigma} e^{-\\frac{1}{2}\\left(\\frac{x-\\bar{x}}{\\sigma}\\right)^2} $$\n",
        "\n",
        "where:\n",
        "* $\\bar{x}$ is the average of a distribution\n",
        "* $\\sigma$ is the standard deviation of the distribution\n",
        "\n",
        "\n",
        "Write a function **mygauss** that does the following:\n",
        "\n",
        "* Input\n",
        "  * x\n",
        "  * mean\n",
        "  * sigma\n",
        "\n",
        "* calculate $f(x)$\n",
        "\n",
        "* Return\n",
        "  * $f(x)$\n",
        "\n",
        "\n"
      ],
      "metadata": {
        "id": "bbNL0Tm5QF9b"
      }
    },
    {
      "cell_type": "code",
      "source": [
        "def mygauss(x, mean=0, sigma=1):\n",
        "  \"\"\"\n",
        "  Calculates the Gaussian Function (normal distribution)\n",
        "\n",
        "  INPUTS:\n",
        "  x - values for x\n",
        "  mean - average distribution\n",
        "  sigma - standard deviation of the distribution\n",
        "\n",
        "  RETURNS:\n",
        "  fx - values calculated\n",
        "  \"\"\"\n",
        "\n",
        "  fx = (1 / np.sqrt(2 * np.pi) * sigma) * np.exp(-0.5*( (x - mean) / sigma)**2)\n",
        "\n",
        "  return fx"
      ],
      "metadata": {
        "id": "s8DTfGCQVjyG"
      },
      "execution_count": 160,
      "outputs": []
    },
    {
      "cell_type": "markdown",
      "source": [
        "### Integrate your gaussian\n",
        "\n",
        "* write code to integrate the gaussian between:\n",
        "* $ -\\sigma \\le x \\le \\sigma $\n",
        "\n",
        "* Compare your results with the expected answer, and calculate your percent error.\n",
        "\n",
        "* If you are not sure what the expected answer is, [look here](https://en.wikipedia.org/wiki/Normal_distribution)"
      ],
      "metadata": {
        "id": "215OJtBgczwW"
      }
    },
    {
      "cell_type": "code",
      "source": [
        "x_val = np.linspace(-1,1,100)\n",
        "y_val = mygauss(x_val)\n",
        "\n",
        "A = trap(x_val,y_val)\n",
        "\n",
        "perc_error = np.abs(0.682 - A) / 0.682 *100\n",
        "perc_error"
      ],
      "metadata": {
        "id": "OgZQ1qgLTglS",
        "colab": {
          "base_uri": "https://localhost:8080/"
        },
        "outputId": "389c28f8-a327-4040-fa68-79548fd844ba"
      },
      "execution_count": 161,
      "outputs": [
        {
          "output_type": "execute_result",
          "data": {
            "text/plain": [
              "0.09868519049092601"
            ]
          },
          "metadata": {},
          "execution_count": 161
        }
      ]
    },
    {
      "cell_type": "markdown",
      "source": [
        "Calculate the integral for:\n",
        "* $ -2\\sigma \\le x \\le 2\\sigma $\n",
        "\n",
        "and compare with the accepted answer."
      ],
      "metadata": {
        "id": "yvYU9KDodFli"
      }
    },
    {
      "cell_type": "code",
      "source": [
        "x_val = np.linspace(-2,2,100)\n",
        "y_val = mygauss(x_val,)\n",
        "\n",
        "A = trap(x_val,y_val)\n",
        "\n",
        "perc_error = np.abs(0.954 - A) / 0.954 *100\n",
        "perc_error"
      ],
      "metadata": {
        "id": "yFWRKdaudN79",
        "colab": {
          "base_uri": "https://localhost:8080/"
        },
        "outputId": "53085f6e-0cbc-4d27-8007-c433323f1108"
      },
      "execution_count": 162,
      "outputs": [
        {
          "output_type": "execute_result",
          "data": {
            "text/plain": [
              "0.049303675295145184"
            ]
          },
          "metadata": {},
          "execution_count": 162
        }
      ]
    },
    {
      "cell_type": "markdown",
      "source": [
        "Calculate the integral for:\n",
        "* $ -3\\sigma \\le x \\le 3\\sigma $\n",
        "\n",
        "and compare with the accepted answer."
      ],
      "metadata": {
        "id": "ZLAB82w2dM4d"
      }
    },
    {
      "cell_type": "code",
      "source": [
        "x_val = np.linspace(-3,3,100)\n",
        "y_val = mygauss(x_val)\n",
        "\n",
        "A = trap(x_val,y_val)\n",
        "\n",
        "perc_error = np.abs(0.996 - A) / 0.996 *100\n",
        "perc_error"
      ],
      "metadata": {
        "id": "YA0YYC7PdOeG",
        "colab": {
          "base_uri": "https://localhost:8080/"
        },
        "outputId": "f6ef9a92-ac52-4dc8-d278-de94d246c253"
      },
      "execution_count": 163,
      "outputs": [
        {
          "output_type": "execute_result",
          "data": {
            "text/plain": [
              "0.12972566535386193"
            ]
          },
          "metadata": {},
          "execution_count": 163
        }
      ]
    },
    {
      "cell_type": "markdown",
      "source": [
        "# Part 4: Using Python Built-In Functions\n",
        "(5 points)\n",
        "\n",
        "* Let's revisit parts 1 and 4 and use python's built-in functions to complete the integration.\n",
        "\n",
        "* You can use the ```scipy.integrate.trapezoid``` function to perform your integration."
      ],
      "metadata": {
        "id": "LbsBm4YYIdA9"
      }
    },
    {
      "cell_type": "code",
      "source": [
        "# import scipy.integrate.trapezoid\n",
        "from scipy.integrate import trapezoid as trapint\n",
        "# set up x and y arrays for the half circle\n",
        "x = np.linspace(-2, 2, 100)\n",
        "y = mycircle(x)\n",
        "# call scipy.integrate.trapezoid to perform the integration\n",
        "integral = trapint(y, x)\n",
        "# print your result and the expected answer in a formatted print statement\n",
        "print(f\"Trapezoid integral of a half circle (-2,2) = {integral:.5f}\")"
      ],
      "metadata": {
        "id": "_IVhEmEpIo_1",
        "colab": {
          "base_uri": "https://localhost:8080/"
        },
        "outputId": "0e36db73-7012-4d23-a773-d803353e7de2"
      },
      "execution_count": 164,
      "outputs": [
        {
          "output_type": "stream",
          "name": "stdout",
          "text": [
            "Trapezoid integral of a half circle (-2,2) = 6.27644\n"
          ]
        }
      ]
    },
    {
      "cell_type": "code",
      "source": [
        "# import scipy.integrate.trapezoid\n",
        "\n",
        "# set up x and y arrays for the gaussian\n",
        "x = np.linspace(-1,1,100)\n",
        "y = mygauss(x)\n",
        "# call scipy.integrate.trapezoid to perform the integration between $-1\\sigma \\le x \\le 1\\sigma$.\n",
        "integral = trapint(y,x)\n",
        "# print your result and the expected answer in a formatted print statement\n",
        "print(f\"Trapezoid integral of gaussian distribution (-1 sigma, 1 sigma)= {integral:.5f}\")"
      ],
      "metadata": {
        "id": "utR9UEHShLNq",
        "colab": {
          "base_uri": "https://localhost:8080/"
        },
        "outputId": "1851879d-68ea-4f3e-b616-1a201d86479f"
      },
      "execution_count": 165,
      "outputs": [
        {
          "output_type": "stream",
          "name": "stdout",
          "text": [
            "Trapezoid integral of gaussian distribution (-1 sigma, 1 sigma)= 0.68267\n"
          ]
        }
      ]
    },
    {
      "cell_type": "markdown",
      "source": [
        "# Part 5: Calculating Area Using Monte Carlo\n",
        "\n",
        "(10 points)\n",
        "\n",
        "* On paper or the whiteboard, develop pseudo code for a function that will calculate the area of the half circle using the Monte Carlo method.\n",
        "* Check this with your instructor, and discuss how you could generalize this for any function.\n",
        "* Write your function **mcintegrate** in the cell below.\n",
        "* Your function should have an optional input argument, **visualize**, with a default value of ```False```.  If ```visualize=True```, your function should create a plot that shows:\n",
        "  * the function being integrated with a black solid line;\n",
        "  * the points that fall below the function as blue circles;\n",
        "  * the points that fall above the function as red circles;\n",
        "  * a title that reports the area.\n",
        "\n"
      ],
      "metadata": {
        "id": "YIsYaJeMICbr"
      }
    },
    {
      "cell_type": "code",
      "source": [
        "# your monte carlo function here\n",
        "def mcintegrate(visualize=False):\n",
        "  xrandom = np.random.uniform(low = -2, high = 2, size = 10000)\n",
        "  yrandom = np.random.uniform(low = 0, high = 2, size = 10000)\n",
        "  x = np.linspace(-2,2, 100)\n",
        "  func = mycircle(x)\n",
        "\n",
        "  keepFlag = yrandom < np.sqrt(2**2 - xrandom**2)\n",
        "  Ngood = np.sum(keepFlag)\n",
        "\n",
        "  badFlag = yrandom > np.sqrt(2**2 - xrandom**2)\n",
        "  Nbad = np.sum(badFlag)\n",
        "\n",
        "  Area = Ngood / (Ngood + Nbad)\n",
        "\n",
        "  if visualize == True:\n",
        "    plt.plot(xrandom[keepFlag], yrandom[keepFlag], 'bo', label='Good')\n",
        "    plt.plot(xrandom[badFlag], yrandom[badFlag], 'ro', label='Bad')\n",
        "    plt.plot(x,func, 'k-',markersize=100, label='Function')\n",
        "    plt.legend()\n",
        "\n",
        "    plt.title(f'Monte Carlo Area = {Area}')\n",
        "  else:\n",
        "    None\n",
        "  return Area"
      ],
      "metadata": {
        "id": "pDnrvWT0IcV0"
      },
      "execution_count": 182,
      "outputs": []
    },
    {
      "cell_type": "markdown",
      "source": [
        "### Running Your Monte Carlo Integration Function\n",
        "\n",
        "* Use your function for integrating the area under the curve in Part 1.\n",
        "* Set ```visualize=True``` to see make sure your function is behaving as expected."
      ],
      "metadata": {
        "id": "i1EIBOeHd1CQ"
      }
    },
    {
      "cell_type": "code",
      "source": [
        "# your code to calculate the area of a half circle using monte carlo\n",
        "mcintegrate(True)"
      ],
      "metadata": {
        "id": "5egVlWsqemUZ",
        "colab": {
          "base_uri": "https://localhost:8080/",
          "height": 469
        },
        "outputId": "0178be2b-42c3-4637-ecca-a2e589be4d71"
      },
      "execution_count": 183,
      "outputs": [
        {
          "output_type": "execute_result",
          "data": {
            "text/plain": [
              "0.7752"
            ]
          },
          "metadata": {},
          "execution_count": 183
        },
        {
          "output_type": "display_data",
          "data": {
            "text/plain": [
              "<Figure size 640x480 with 1 Axes>"
            ],
            "image/png": "[encoded data removed]"
          },
          "metadata": {}
        }
      ]
    }
  ]
}