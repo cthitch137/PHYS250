{
  "nbformat": 4,
  "nbformat_minor": 0,
  "metadata": {
    "colab": {
      "provenance": [],
      "include_colab_link": true
    },
    "kernelspec": {
      "name": "python3",
      "display_name": "Python 3"
    },
    "language_info": {
      "name": "python"
    }
  },
  "cells": [
    {
      "cell_type": "markdown",
      "metadata": {
        "id": "view-in-github",
        "colab_type": "text"
      },
      "source": [
        "<a href=\"https://colab.research.google.com/github/cthitch137/PHYS250/blob/main/Collin_Hitchcock_Lab03_Euler_Radioactive_Decay.ipynb\" target=\"_parent\"><img src=\"https://colab.research.google.com/assets/colab-badge.svg\" alt=\"Open In Colab\"/></a>"
      ]
    },
    {
      "cell_type": "markdown",
      "source": [
        "# Lab 3: The Euler Method for Integrating Ordinary Differential Equantions\n",
        "\n",
        "*Written by Rose Finn*\n",
        "\n",
        "*Adapted from Giordano and Nakanishi, [Computational Physics](https://www.physics.purdue.edu/~hisao/book/), Chapter 1*\n",
        "\n",
        "# Overview\n",
        "\n",
        "The goal of this lab is to use the **Euler method** to model system that are changing with time.  If we can describe how the system changes with time, then we can determine how the system changes by stepping it forward in time using  tiny intervals of time.  This is the basic idea behind the Euler method."
      ],
      "metadata": {
        "id": "dXQCRRvekktg"
      }
    },
    {
      "cell_type": "code",
      "source": [
        "# import numpy and pyplot here\n",
        "import numpy as np\n",
        "import matplotlib.pyplot as plt"
      ],
      "metadata": {
        "id": "DhigXHbty-Oc"
      },
      "execution_count": 1,
      "outputs": []
    },
    {
      "cell_type": "markdown",
      "source": [
        "# Function Warm Up\n",
        "\n",
        "(5 points)\n",
        "\n",
        "Before starting the lab, we will do one problem to keep building our function-writing skills.\n",
        "\n",
        "**The problem**: Write a function that calculates the mean and standard deviation for a list of numbers.  Hint: the functions `np.mean()` and `np.std()` should be useful!\n",
        "\n",
        "Function requirements:\n",
        "* input = list/array of numbers\n",
        "* return = mean, std\n",
        "\n",
        "Be sure to include a descriptive comment string at the beginning of your function.\n"
      ],
      "metadata": {
        "id": "PEwzUWrOYKp8"
      }
    },
    {
      "cell_type": "code",
      "source": [
        "# your function here\n",
        "def myfunc(arr):\n",
        "  stand = np.std(arr)\n",
        "  mean = np.mean(arr)\n",
        "  return mean,stand"
      ],
      "metadata": {
        "id": "8bmRFkisYJ2y"
      },
      "execution_count": 2,
      "outputs": []
    },
    {
      "cell_type": "code",
      "source": [
        "help(np.random.normal)"
      ],
      "metadata": {
        "colab": {
          "base_uri": "https://localhost:8080/"
        },
        "id": "bmTxnL2a8Hus",
        "outputId": "a33296df-95a3-4140-d748-33fe8613b5d9"
      },
      "execution_count": 3,
      "outputs": [
        {
          "output_type": "stream",
          "name": "stdout",
          "text": [
            "Help on built-in function normal:\n",
            "\n",
            "normal(...) method of numpy.random.mtrand.RandomState instance\n",
            "    normal(loc=0.0, scale=1.0, size=None)\n",
            "    \n",
            "    Draw random samples from a normal (Gaussian) distribution.\n",
            "    \n",
            "    The probability density function of the normal distribution, first\n",
            "    derived by De Moivre and 200 years later by both Gauss and Laplace\n",
            "    independently [2]_, is often called the bell curve because of\n",
            "    its characteristic shape (see the example below).\n",
            "    \n",
            "    The normal distributions occurs often in nature.  For example, it\n",
            "    describes the commonly occurring distribution of samples influenced\n",
            "    by a large number of tiny, random disturbances, each with its own\n",
            "    unique distribution [2]_.\n",
            "    \n",
            "    .. note::\n",
            "        New code should use the ``normal`` method of a ``default_rng()``\n",
            "        instance instead; please see the :ref:`random-quick-start`.\n",
            "    \n",
            "    Parameters\n",
            "    ----------\n",
            "    loc : float or array_like of floats\n",
            "        Mean (\"centre\") of the distribution.\n",
            "    scale : float or array_like of floats\n",
            "        Standard deviation (spread or \"width\") of the distribution. Must be\n",
            "        non-negative.\n",
            "    size : int or tuple of ints, optional\n",
            "        Output shape.  If the given shape is, e.g., ``(m, n, k)``, then\n",
            "        ``m * n * k`` samples are drawn.  If size is ``None`` (default),\n",
            "        a single value is returned if ``loc`` and ``scale`` are both scalars.\n",
            "        Otherwise, ``np.broadcast(loc, scale).size`` samples are drawn.\n",
            "    \n",
            "    Returns\n",
            "    -------\n",
            "    out : ndarray or scalar\n",
            "        Drawn samples from the parameterized normal distribution.\n",
            "    \n",
            "    See Also\n",
            "    --------\n",
            "    scipy.stats.norm : probability density function, distribution or\n",
            "        cumulative density function, etc.\n",
            "    random.Generator.normal: which should be used for new code.\n",
            "    \n",
            "    Notes\n",
            "    -----\n",
            "    The probability density for the Gaussian distribution is\n",
            "    \n",
            "    .. math:: p(x) = \\frac{1}{\\sqrt{ 2 \\pi \\sigma^2 }}\n",
            "                     e^{ - \\frac{ (x - \\mu)^2 } {2 \\sigma^2} },\n",
            "    \n",
            "    where :math:`\\mu` is the mean and :math:`\\sigma` the standard\n",
            "    deviation. The square of the standard deviation, :math:`\\sigma^2`,\n",
            "    is called the variance.\n",
            "    \n",
            "    The function has its peak at the mean, and its \"spread\" increases with\n",
            "    the standard deviation (the function reaches 0.607 times its maximum at\n",
            "    :math:`x + \\sigma` and :math:`x - \\sigma` [2]_).  This implies that\n",
            "    normal is more likely to return samples lying close to the mean, rather\n",
            "    than those far away.\n",
            "    \n",
            "    References\n",
            "    ----------\n",
            "    .. [1] Wikipedia, \"Normal distribution\",\n",
            "           https://en.wikipedia.org/wiki/Normal_distribution\n",
            "    .. [2] P. R. Peebles Jr., \"Central Limit Theorem\" in \"Probability,\n",
            "           Random Variables and Random Signal Principles\", 4th ed., 2001,\n",
            "           pp. 51, 51, 125.\n",
            "    \n",
            "    Examples\n",
            "    --------\n",
            "    Draw samples from the distribution:\n",
            "    \n",
            "    >>> mu, sigma = 0, 0.1 # mean and standard deviation\n",
            "    >>> s = np.random.normal(mu, sigma, 1000)\n",
            "    \n",
            "    Verify the mean and the variance:\n",
            "    \n",
            "    >>> abs(mu - np.mean(s))\n",
            "    0.0  # may vary\n",
            "    \n",
            "    >>> abs(sigma - np.std(s, ddof=1))\n",
            "    0.1  # may vary\n",
            "    \n",
            "    Display the histogram of the samples, along with\n",
            "    the probability density function:\n",
            "    \n",
            "    >>> import matplotlib.pyplot as plt\n",
            "    >>> count, bins, ignored = plt.hist(s, 30, density=True)\n",
            "    >>> plt.plot(bins, 1/(sigma * np.sqrt(2 * np.pi)) *\n",
            "    ...                np.exp( - (bins - mu)**2 / (2 * sigma**2) ),\n",
            "    ...          linewidth=2, color='r')\n",
            "    >>> plt.show()\n",
            "    \n",
            "    Two-by-four array of samples from N(3, 6.25):\n",
            "    \n",
            "    >>> np.random.normal(3, 2.5, size=(2, 4))\n",
            "    array([[-4.49401501,  4.00950034, -1.81814867,  7.29718677],   # random\n",
            "           [ 0.39924804,  4.68456316,  4.99394529,  4.84057254]])  # random\n",
            "\n"
          ]
        }
      ]
    },
    {
      "cell_type": "code",
      "source": [
        "\n",
        "myvalues = np.random.normal(size=100,loc=100,scale=20)\n",
        "\n",
        "# Feed the following array into your function\n",
        "myfunc(myvalues)\n",
        "# print out the mean and standard deviation\n",
        "# use a formatted print statement to print two decimal places\n",
        "print(f'The mean of myvalues is {myfunc(myvalues)[0]:.2f} and the standard deviation is {myfunc(myvalues)[1]:.2f}')"
      ],
      "metadata": {
        "id": "v0E8n2wtyej1",
        "colab": {
          "base_uri": "https://localhost:8080/"
        },
        "outputId": "c72a6614-cf07-49f4-9181-3a2fdd962dc8"
      },
      "execution_count": 4,
      "outputs": [
        {
          "output_type": "stream",
          "name": "stdout",
          "text": [
            "The mean of myvalues is 98.78 and the standard deviation is 20.57\n"
          ]
        }
      ]
    },
    {
      "cell_type": "markdown",
      "source": [
        "# Radioactive Decay\n",
        "\n",
        "We will use the Euler method to calculate how many radioactive nuclei survive as a function of time.  We talked about Uranium 235, but this could apply to any radioactive nuclei.  In fact, this could apply to anything that is experiencing an exponential decay.\n",
        "\n",
        "## Differential Equation Described How $N_U$ Changes With Time\n",
        "\n",
        "The equation that describes how the number of surviving nuclei changes with time is:\n",
        "\n",
        "$$ \\frac{dN}{dt} = - \\frac{N}{\\tau} $$\n",
        "\n",
        "where\n",
        "* N = number of nuclei present\n",
        "* $\\tau$ = half-live of the nuclei\n",
        "\n",
        "We can solve this particular [`Ordinary Differential Equation`](https://en.wikipedia.org/wiki/Ordinary_differential_equation) by separating variables and integrating:\n",
        "\n",
        "1. Separate variables\n",
        "$$ \\frac{dN}{N} = - \\frac{dt}{\\tau} $$\n",
        "2. Integrate\n",
        "$$ \\int_{N_0}^N \\frac{dN}{N} = - \\int_0^t \\frac{dt}{\\tau} $$\n",
        "$$ ln(N/N_0) = -\\frac{1}{\\tau} t $$\n",
        "3. Raise each side to the exponential\n",
        "$$ e^{ln(N/N_0)} = e^{-\\frac{1}{\\tau} t} $$\n",
        "$$ N/N_0 = e^{-\\frac{t}{\\tau}} $$\n",
        "4. This gives the analytic solution to how the number of nuclei changes with time:\n",
        "$$ N(t) = N_0 e^{-\\frac{t}{\\tau}} $$\n",
        "\n",
        "So although we can solve this equation analytically, it is a nice example to use for illustrating how the Euler method works.\n",
        "\n",
        "## Euler Method\n",
        "\n",
        "We can write the Taylor Expansion for $N(t)$ as\n",
        "\n",
        "$$ N(t + Δt) ≈ N(t) + \\frac{dN}{dt} \\Delta t $$\n",
        "\n",
        "We can then substitute $ \\frac{dN}{dt} = - \\frac{N}{\\tau} $ to get\n",
        "\n",
        "$$ N(t + Δt) ≈ N(t) - \\frac{N}{\\tau} \\Delta t $$\n",
        "\n",
        "Below you will write the functions that we need to calculate how the number of surviving Uranium nuclei ($N_U$) changes with time."
      ],
      "metadata": {
        "id": "UYM2PWqTXsLg"
      }
    },
    {
      "cell_type": "markdown",
      "source": [
        "\n",
        "### Write function to set up the time and number arrays\n",
        "\n",
        "(5 points)\n",
        "\n",
        "Write a function **initialize** that has the following.\n",
        "\n",
        "* input\n",
        "  * N0 = initial number of nuclei\n",
        "  * tau = decay half-life of the nuclei\n",
        "  * tmax = how long to calculate N and time\n",
        "  * dt = the time step to use for advancing the system\n",
        "\n",
        "* the function will\n",
        "  * calculate nsteps (this is tmax/dt), and make sure nsteps in an integer.\n",
        "  * define arrays for time *t* and the number of surviving nuclei *n_nuclei*.  These array should initially be set to zero, and they should have be *nsteps* long.\n",
        "  * set the first element of *n_nuclei* to N0\n",
        "\n",
        "* return\n",
        "  * *t, n_nuclei* arrays"
      ],
      "metadata": {
        "id": "_Aw1HhF-y6T7"
      }
    },
    {
      "cell_type": "code",
      "source": [
        "# write function initialize here\n",
        "def initialize(N0,tau,tmax,dt):\n",
        "  '''\n",
        "  Utilizes the ODE to calculate radioactive decay of a nuclei\n",
        "\n",
        "  INPUT:\n",
        "  N0 = initial number of nuclei\n",
        "  tau = decay half-life of the nuclei\n",
        "  tmax = how long to calculate N and time\n",
        "  dt = the time step to use for advancing the system\n",
        "\n",
        "  RETURNS:\n",
        "  t = array of time (initially set to zeros) with the length of nsteps (tmax/dt)\n",
        "  n_nuclei = array of number of nuclei (initially set to zeros) with the length of nsteps (tmax/dt)\n",
        "  '''\n",
        "  nsteps = int(tmax/dt)\n",
        "  t = np.zeros(nsteps,'f')\n",
        "  n_nuclei = np.zeros(nsteps,'f')\n",
        "  n_nuclei[0]=N0\n",
        "  return t,n_nuclei"
      ],
      "metadata": {
        "id": "rAl4eHOJXsej"
      },
      "execution_count": 5,
      "outputs": []
    },
    {
      "cell_type": "markdown",
      "source": [
        "### Write function to implement Euler calculation\n",
        "\n",
        "(5 points)\n",
        "\n",
        "Write a function **calculate** that does the following:\n",
        "\n",
        "* input\n",
        "  * time array, *t*\n",
        "  * array containing the number of surviving nuclei at each time step, *n_nuclei*\n",
        "  * dt\n",
        "  * tau\n",
        "\n",
        "\n",
        "* the function will\n",
        "  * loop over arrays and calculate:\n",
        "\n",
        "  ```\n",
        "  n_nuclei[i] = n_nuclei[i-1] - n_nuclei[i-1]/tau * dt\n",
        "  t[i] = t[i-1] + dt\n",
        "  ```  \n",
        "\n",
        "* return\n",
        "  *  *t, n_nuclei* arrays"
      ],
      "metadata": {
        "id": "uXf9Tr_e0X_2"
      }
    },
    {
      "cell_type": "code",
      "source": [
        "# write your calculate function here\n",
        "def calculate(t,n_nuclei,dt,tau):\n",
        "  '''\n",
        "  Euler method used to approximate a number, in this case the numebr of surviving radioactive nuclei\n",
        "\n",
        "  INPUTS:\n",
        "  time array, t\n",
        "  array containing the number of surviving nuclei at each time step, n_nuclei\n",
        "  dt = the time step to use for advancing the system\n",
        "  tau = decay half-life of the nuclei\n",
        "\n",
        "  RETURNS:\n",
        "  t = array of time with the length of nsteps (tmax/dt)\n",
        "  n_nuclei = array of number of nuclei with the length of nsteps (tmax/dt)\n",
        "  '''\n",
        "  for i in range(1,len(t)):\n",
        "    n_nuclei[i] = n_nuclei[i-1] - n_nuclei[i-1]/tau * dt\n",
        "    t[i] = t[i-1] + dt\n",
        "\n",
        "  return t,n_nuclei\n"
      ],
      "metadata": {
        "id": "PkuO7SiY2PQS"
      },
      "execution_count": 6,
      "outputs": []
    },
    {
      "cell_type": "markdown",
      "source": [
        "### Running your code\n",
        "\n",
        "(5 points)\n",
        "\n",
        "You now just need to set up the initial values and call your functions.\n",
        "\n",
        "Give the variables the following values:\n",
        "\n",
        "* start with 100 nuclei\n",
        "* set the decay half-life to 1 second\n",
        "* set tmax to 5 seconds\n",
        "* use a time step of 0.05 s\n",
        "\n",
        "When you are finished, check your code with your instructor or LA."
      ],
      "metadata": {
        "id": "nPbJ5zDO2Uv4"
      }
    },
    {
      "cell_type": "code",
      "source": [
        "############################################################\n",
        "# This is your main program that will call the functions.\n",
        "############################################################\n",
        "\n",
        "\n",
        "\n",
        "# define initial values\n",
        "N0 = 100 # number of nuclei (quantity)\n",
        "tau = 1 # half life of each nuclei (seconds)\n",
        "tmax = 5 # max time (seconds)\n",
        "dt = 0.05 # time step\n",
        "\n",
        "# call initialize function\n",
        "initialize(N0,tau,tmax,dt)\n",
        "\n",
        "# call your calculate function\n",
        "calculate(initialize(N0,tau,tmax,dt)[0],initialize(N0,tau,tmax,dt)[1],dt,tau)\n",
        "\n",
        "time, num_nuc = calculate(initialize(N0,tau,tmax,dt)[0],initialize(N0,tau,tmax,dt)[1],dt,tau)"
      ],
      "metadata": {
        "id": "04z99_ug6Tru"
      },
      "execution_count": 7,
      "outputs": []
    },
    {
      "cell_type": "markdown",
      "source": [
        "### Visualizing your results\n",
        "\n",
        "(5 points)\n",
        "\n",
        "* Make a plot of the number of nuclei versus time.\n",
        "* Plot the analytic solution for comparison.\n",
        "\n",
        "Question:  How well do your calculated values compare with the analytic solution?"
      ],
      "metadata": {
        "id": "x9UmVQqb2XM3"
      }
    },
    {
      "cell_type": "code",
      "source": [
        "# plot the number of nuclei versus time using black squares\n",
        "plt.plot(time,num_nuc,'ks',label='Euler Method')\n",
        "\n",
        "# plot the analytic solution using a solid black line\n",
        "n_t = N0*(np.e**(-time/tau))\n",
        "plt.plot(time,n_t,'y',label='Analytic Solution')\n",
        "\n",
        "plt.title('Radioactive Decay')\n",
        "plt.xlabel('Time (s)')\n",
        "plt.ylabel('Number of Nuclei')\n",
        "plt.legend()"
      ],
      "metadata": {
        "id": "8kT6EoGu2alp",
        "colab": {
          "base_uri": "https://localhost:8080/",
          "height": 489
        },
        "outputId": "5594fca3-0271-4238-affc-c98d04177571"
      },
      "execution_count": 8,
      "outputs": [
        {
          "output_type": "execute_result",
          "data": {
            "text/plain": [
              "<matplotlib.legend.Legend at 0x7a59e9e63ca0>"
            ]
          },
          "metadata": {},
          "execution_count": 8
        },
        {
          "output_type": "display_data",
          "data": {
            "text/plain": [
              "<Figure size 640x480 with 1 Axes>"
            ],
            "image/png": "[encoded data removed]"
          },
          "metadata": {}
        }
      ]
    },
    {
      "cell_type": "markdown",
      "source": [
        "### Investigating how the timesteps affect the accuracy of the approximation\n",
        "\n",
        "(5 points)\n",
        "\n",
        "You should find that your calculated values do a good job at recovering the analytic solution.  In this section we will see how the results are affected if we choose a different value for dt.\n",
        "\n",
        "Specifically, you should calculate the number of nuclei versus time using a time steps of 0.05 sec, 0.2 sec, and 0.5 sec.  Save the output as different names so you can plot all three together with the analytic solution.\n",
        "\n",
        "Plot the results.\n",
        "* plot the analytic solution with a line.\n",
        "* plot the results from the Euler approximation with points, and use different colors and shapes for each time step.\n",
        "* Make sure your plot has a legend that describes"
      ],
      "metadata": {
        "id": "f6dElRQT2bhX"
      }
    },
    {
      "cell_type": "code",
      "source": [
        "# code to get number of nuclei and time for dt = 0.05 s\n",
        "dt1 = 0.05 # time step\n",
        "\n",
        "time1,num_nuc1 = calculate(initialize(N0,tau,tmax,dt1)[0],initialize(N0,tau,tmax,dt1)[1],dt1,tau)\n",
        "\n",
        "# code to get number of nuclei and time for dt = 0.2 s\n",
        "dt2 = 0.2 # time step\n",
        "\n",
        "time2, num_nuc2 = calculate(initialize(N0,tau,tmax,dt2)[0],initialize(N0,tau,tmax,dt2)[1],dt2,tau)\n",
        "\n",
        "# code to get number of nuclei and time for dt = 0.5 s\n",
        "dt3 = 0.5 # time step\n",
        "\n",
        "time3, num_nuc3 = calculate(initialize(N0,tau,tmax,dt3)[0],initialize(N0,tau,tmax,dt3)[1],dt3,tau)\n"
      ],
      "metadata": {
        "id": "d109Cw-d2aRb"
      },
      "execution_count": 9,
      "outputs": []
    },
    {
      "cell_type": "code",
      "source": [
        "varib = [0.05,0.2,0.5]\n",
        "marker = ['bo','k^','rs']\n",
        "time_var = []\n",
        "nuc_var = []\n",
        "for i in range(len(varib)):\n",
        "  t,n = calculate(initialize(N0,tau,tmax,varib[i])[0],initialize(N0,tau,tmax,varib[i])[1],varib[i],tau)\n",
        "  time_var.append(t)\n",
        "  nuc_var.append(n)\n",
        "  plt.plot(time_var[i],nuc_var[i],marker[i])"
      ],
      "metadata": {
        "colab": {
          "base_uri": "https://localhost:8080/",
          "height": 430
        },
        "id": "krKKZ-81J7V1",
        "outputId": "bf65c782-09a8-4d03-df31-3b4ddc927e3b"
      },
      "execution_count": 33,
      "outputs": [
        {
          "output_type": "display_data",
          "data": {
            "text/plain": [
              "<Figure size 640x480 with 1 Axes>"
            ],
            "image/png": "[encoded data removed]"
          },
          "metadata": {}
        }
      ]
    },
    {
      "cell_type": "code",
      "source": [
        "# code to plot the 3 different results\n",
        "plt.plot(time1,num_nuc1,'gs',label='dt = 0.05s')\n",
        "\n",
        "plt.plot(time2,num_nuc2,'r^',label='dt = 0.2s')\n",
        "\n",
        "plt.plot(time3,num_nuc3,'bo',label='dt = 0.5s')\n",
        "\n",
        "# code to plot the analytic solution\n",
        "n_t1 = N0*(np.e**(-time/tau))\n",
        "\n",
        "plt.plot(time,n_t1,'k',label='Analytic Solution')\n",
        "\n",
        "plt.title('Radioactive Decay')\n",
        "plt.xlabel('Time (s)')\n",
        "plt.ylabel('Number of Nuclei')\n",
        "plt.legend()\n"
      ],
      "metadata": {
        "id": "Wm5zwwjJ2Rqa",
        "colab": {
          "base_uri": "https://localhost:8080/",
          "height": 489
        },
        "outputId": "7b443747-0b76-409f-a7b7-451f9c9fb699"
      },
      "execution_count": 19,
      "outputs": [
        {
          "output_type": "execute_result",
          "data": {
            "text/plain": [
              "<matplotlib.legend.Legend at 0x7a59e80ee260>"
            ]
          },
          "metadata": {},
          "execution_count": 19
        },
        {
          "output_type": "display_data",
          "data": {
            "text/plain": [
              "<Figure size 640x480 with 1 Axes>"
            ],
            "image/png": "[encoded data removed]"
          },
          "metadata": {}
        }
      ]
    },
    {
      "cell_type": "markdown",
      "source": [
        "# Summarize Your Results\n",
        "\n",
        "\n",
        "\n",
        "Complete your wiki page for this lab.  Your wiki should have the following elements.\n",
        "\n",
        "## Background\n",
        "1. Define what an ordinary differential equation is.\n",
        "1. Describe what a Taylor Expansion is and why it is useful\n",
        "1. Describe the general form of the Euler Method and why this is useful for approximating a solution to a differential equation\n",
        "\n",
        "## This Lab\n",
        "1. Describe how we apply the Euler method to approximate how the number of Uranium atoms declines as a function of time.\n",
        "1. Note that in this particular example, we can solve the equation analytically.  Nonetheless, this provides a nice way to introduce the Euler method and examine how some of our numerical choices affect the accuracy of our result.\n",
        "1. Describe does the time step in the Euler method affect the accuracy of your results.  Include the graph that illustrates how the time step affects the accuracy of your results."
      ],
      "metadata": {
        "id": "nLlgBn0P-Aq3"
      }
    },
    {
      "cell_type": "code",
      "source": [],
      "metadata": {
        "id": "51_YWYJd35Ts"
      },
      "execution_count": null,
      "outputs": []
    },
    {
      "cell_type": "code",
      "source": [],
      "metadata": {
        "id": "7S8L6815HaH9"
      },
      "execution_count": null,
      "outputs": []
    }
  ]
}