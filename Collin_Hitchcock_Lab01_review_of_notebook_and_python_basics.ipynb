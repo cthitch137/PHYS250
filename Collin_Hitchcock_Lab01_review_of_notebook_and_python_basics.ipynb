{
  "nbformat": 4,
  "nbformat_minor": 0,
  "metadata": {
    "colab": {
      "provenance": [],
      "include_colab_link": true
    },
    "kernelspec": {
      "name": "python3",
      "display_name": "Python 3"
    }
  },
  "cells": [
    {
      "cell_type": "markdown",
      "metadata": {
        "id": "view-in-github",
        "colab_type": "text"
      },
      "source": [
        "<a href=\"https://colab.research.google.com/github/cthitch137/PHYS250/blob/main/Collin_Hitchcock_Lab01_review_of_notebook_and_python_basics.ipynb\" target=\"_parent\"><img src=\"https://colab.research.google.com/assets/colab-badge.svg\" alt=\"Open In Colab\"/></a>"
      ]
    },
    {
      "cell_type": "markdown",
      "metadata": {
        "id": "36eTMfu05klo"
      },
      "source": [
        "# Lab 1: Python Review\n",
        "\n",
        "The goal of this notebook is to help you review some of the basics of python.\n",
        "\n",
        "Specifically, you will review\n",
        "\n",
        "* python syntax\n",
        "* markdown\n",
        "* formatted printing\n",
        "* loops\n",
        "* conditionals\n",
        "* functions\n",
        "* basic plotting\n",
        "\n"
      ]
    },
    {
      "cell_type": "markdown",
      "source": [
        "\n",
        "# Fixer-upper\n",
        "\n",
        "Fix the code in the cells below...it's all broken!\n",
        "\n",
        "(1 point each)"
      ],
      "metadata": {
        "id": "ho0V0oXimSW9"
      }
    },
    {
      "cell_type": "code",
      "metadata": {
        "id": "7xWQl5iV5ZlR",
        "colab": {
          "base_uri": "https://localhost:8080/"
        },
        "outputId": "5a5ed8eb-d66e-4e00-c572-9d6280edde02"
      },
      "source": [
        "myage = 52 # Or fill in your age here\n",
        "\n",
        "print(f\"My age is {myage}\".format(myage))\n"
      ],
      "execution_count": 1,
      "outputs": [
        {
          "output_type": "stream",
          "name": "stdout",
          "text": [
            "My age is 52\n"
          ]
        }
      ]
    },
    {
      "cell_type": "code",
      "metadata": {
        "id": "_uqX-8oa50fF",
        "colab": {
          "base_uri": "https://localhost:8080/"
        },
        "outputId": "3ee98405-8433-4418-a375-1ab509494bf4"
      },
      "source": [
        "song = \"Believer\"\n",
        "artist = \"Imagine Dragons\"\n",
        "\n",
        "print(f\"{song} is sung by \\n\\t {artist}\")"
      ],
      "execution_count": 2,
      "outputs": [
        {
          "output_type": "stream",
          "name": "stdout",
          "text": [
            "Believer is sung by \n",
            "\t Imagine Dragons\n"
          ]
        }
      ]
    },
    {
      "cell_type": "code",
      "metadata": {
        "id": "YdQv3Fxw5_wh",
        "colab": {
          "base_uri": "https://localhost:8080/"
        },
        "outputId": "6865f485-1071-4ce0-ba69-6fea9e219ae9"
      },
      "source": [
        "from math import factorial\n",
        "\n",
        "factorial(4)"
      ],
      "execution_count": 3,
      "outputs": [
        {
          "output_type": "execute_result",
          "data": {
            "text/plain": [
              "24"
            ]
          },
          "metadata": {},
          "execution_count": 3
        }
      ]
    },
    {
      "cell_type": "code",
      "metadata": {
        "id": "XMy2PU_u6Dpm",
        "colab": {
          "base_uri": "https://localhost:8080/"
        },
        "outputId": "88244ac4-02bc-4bab-f8ef-fe8ef525a4ac"
      },
      "source": [
        "from math import pi,cos\n",
        "\n",
        "angle = pi/4.0\n",
        "\n",
        "print(cos(angle))"
      ],
      "execution_count": 4,
      "outputs": [
        {
          "output_type": "stream",
          "name": "stdout",
          "text": [
            "0.7071067811865476\n"
          ]
        }
      ]
    },
    {
      "cell_type": "markdown",
      "metadata": {
        "id": "NJdvPivG6VhP"
      },
      "source": [
        "After you fix the above cell, try restarting the kernel (**Runtime --> Restart runtime...**) and re-running the cell to make sure it works.\n"
      ]
    },
    {
      "cell_type": "markdown",
      "metadata": {
        "id": "M_oS7zjam4_g"
      },
      "source": [
        "# Markdown\n",
        "(1 point each)\n",
        "\n",
        "1. Write out some text in bold, italics, and both.\n",
        "**Text in bold** \\\n",
        "*Text in Italics* \\\n",
        "***Text that is Bold and Italics*** \\\n",
        "1. Make a bullet list.\n",
        "\n",
        "* This list\n",
        "* Is bulleted\n",
        "\n",
        "1. Write out some (3 or more) kinematic equations from Gen Phys I using LaTeX. You can reference a more complete list of\n",
        "symbols [here](https://artofproblemsolving.com/wiki/index.php/LaTeX:Symbols).\n",
        "\n",
        "$$v_f = v_i + at$$\n",
        "\n",
        "$$\\Delta x = v_i t + \\frac{1}{2} at^2$$\n",
        "\n",
        "$$v_f ^2 = v_i ^2 + 2a \\Delta x $$"
      ]
    },
    {
      "cell_type": "markdown",
      "source": [
        "# Formatted Printing\n",
        "(1 point each)\n",
        "\n",
        "* We can use formatted print statements to print out variables.\n",
        "* We will often want to print the results of a calculation, but we don't want to print out a million digits.  We can use formatted print statements to limit the precision of the numbers that we print.\n",
        "* See this link for more details https://docs.python.org/3/tutorial/inputoutput.html"
      ],
      "metadata": {
        "id": "z46N8yx4mJp1"
      }
    },
    {
      "cell_type": "code",
      "source": [
        "myratio = 10/3\n",
        "print(myratio)"
      ],
      "metadata": {
        "id": "jGUaqE_ZmIJh",
        "colab": {
          "base_uri": "https://localhost:8080/"
        },
        "outputId": "19174b21-d475-4ac6-de34-1c5e6133603f"
      },
      "execution_count": 11,
      "outputs": [
        {
          "output_type": "stream",
          "name": "stdout",
          "text": [
            "3.3333333333333335\n"
          ]
        }
      ]
    },
    {
      "cell_type": "code",
      "source": [
        "# formatted print statement, we can reference the variable in brackets {}\n",
        "print(f\"my ratio = {myratio}\")"
      ],
      "metadata": {
        "id": "Q6SV8R-MnGwN",
        "colab": {
          "base_uri": "https://localhost:8080/"
        },
        "outputId": "bdd04ff1-0996-409b-cd3e-d41ef9ba1d6b"
      },
      "execution_count": 12,
      "outputs": [
        {
          "output_type": "stream",
          "name": "stdout",
          "text": [
            "my ratio = 3.3333333333333335\n"
          ]
        }
      ]
    },
    {
      "cell_type": "code",
      "source": [
        "# we can limit the number of decimal places that it prints\n",
        "# in the statement below, I ask python to print the first two digits after the decimal point\n",
        "print(f\"my ratio = {myratio:.2f}\")"
      ],
      "metadata": {
        "id": "CDcv5LfsnRS9",
        "colab": {
          "base_uri": "https://localhost:8080/"
        },
        "outputId": "9ef59cce-c8a5-46ce-b86a-4076f472d222"
      },
      "execution_count": 13,
      "outputs": [
        {
          "output_type": "stream",
          "name": "stdout",
          "text": [
            "my ratio = 3.33\n"
          ]
        }
      ]
    },
    {
      "cell_type": "code",
      "source": [
        "# print pi to 5 decimal places\n",
        "import numpy as np\n",
        "print(f\"pi = {np.pi:.5f}\")"
      ],
      "metadata": {
        "id": "my59mzWznlK_",
        "colab": {
          "base_uri": "https://localhost:8080/"
        },
        "outputId": "93b4be52-1e30-4dfb-f767-88f8c80da013"
      },
      "execution_count": 15,
      "outputs": [
        {
          "output_type": "stream",
          "name": "stdout",
          "text": [
            "pi = 3.14159\n"
          ]
        }
      ]
    },
    {
      "cell_type": "markdown",
      "metadata": {
        "id": "3giruAXg1Es9"
      },
      "source": [
        "# Lists\n",
        "\n",
        "These exercises will allow you to test your understanding of Python lists.\n",
        "\n",
        "(1 point each)"
      ]
    },
    {
      "cell_type": "code",
      "metadata": {
        "id": "YZmDOp-a0_7z"
      },
      "source": [
        "fib = [1,2,3,5,8,13,21,34,55,84]"
      ],
      "execution_count": 16,
      "outputs": []
    },
    {
      "cell_type": "code",
      "metadata": {
        "id": "BQFNz7q91Osr",
        "colab": {
          "base_uri": "https://localhost:8080/"
        },
        "outputId": "7fbb0ff5-f125-4f1a-a6d2-90e89b4ad05d"
      },
      "source": [
        "# Print the second entry in the list fib.\n",
        "print(fib[1])"
      ],
      "execution_count": 17,
      "outputs": [
        {
          "output_type": "execute_result",
          "data": {
            "text/plain": [
              "2"
            ]
          },
          "metadata": {},
          "execution_count": 17
        }
      ]
    },
    {
      "cell_type": "code",
      "metadata": {
        "id": "Uy59uKl51RKM",
        "colab": {
          "base_uri": "https://localhost:8080/"
        },
        "outputId": "82bdf1d4-cf76-45a0-ddbe-bab67b2ca8a5"
      },
      "source": [
        "# Print the 8th entry in the list fib.\n",
        "print(fib[7])"
      ],
      "execution_count": 19,
      "outputs": [
        {
          "output_type": "execute_result",
          "data": {
            "text/plain": [
              "34"
            ]
          },
          "metadata": {},
          "execution_count": 19
        }
      ]
    },
    {
      "cell_type": "code",
      "metadata": {
        "id": "7SoOIZgu1SIs",
        "colab": {
          "base_uri": "https://localhost:8080/"
        },
        "outputId": "a207a46e-e9ac-46f9-aea8-fd51ce31cc78"
      },
      "source": [
        "# How many entries are there in the fib list?\n",
        "len(fib)"
      ],
      "execution_count": 20,
      "outputs": [
        {
          "output_type": "execute_result",
          "data": {
            "text/plain": [
              "10"
            ]
          },
          "metadata": {},
          "execution_count": 20
        }
      ]
    },
    {
      "cell_type": "code",
      "metadata": {
        "id": "Hj-9YGFb1THE",
        "colab": {
          "base_uri": "https://localhost:8080/"
        },
        "outputId": "e4d6f1cf-6c66-4973-bd28-e3c4fdcadfd1"
      },
      "source": [
        "# How would you reference (using the proper index) the number 13 in the fib list?\n",
        "fib[5]"
      ],
      "execution_count": 21,
      "outputs": [
        {
          "output_type": "execute_result",
          "data": {
            "text/plain": [
              "13"
            ]
          },
          "metadata": {},
          "execution_count": 21
        }
      ]
    },
    {
      "cell_type": "code",
      "metadata": {
        "id": "JcVRV3K51UZM"
      },
      "source": [
        "words = ['Once upon a ','midnight dreary ','while I pondered ','weak and weary']"
      ],
      "execution_count": 22,
      "outputs": []
    },
    {
      "cell_type": "code",
      "metadata": {
        "id": "JdPoBM6o1V31",
        "colab": {
          "base_uri": "https://localhost:8080/"
        },
        "outputId": "c97303b5-d997-464f-9f71-660fac843077"
      },
      "source": [
        "# How many entries are there in the words list?\n",
        "len(words)"
      ],
      "execution_count": 23,
      "outputs": [
        {
          "output_type": "execute_result",
          "data": {
            "text/plain": [
              "4"
            ]
          },
          "metadata": {},
          "execution_count": 23
        }
      ]
    },
    {
      "cell_type": "code",
      "metadata": {
        "id": "Enh1au3T1W5t",
        "colab": {
          "base_uri": "https://localhost:8080/"
        },
        "outputId": "ddc451e6-a6fc-4f4f-db86-04a5e56cb2e6"
      },
      "source": [
        "# Print the 3rd entry in the words list?\n",
        "print(words[2])"
      ],
      "execution_count": 24,
      "outputs": [
        {
          "output_type": "stream",
          "name": "stdout",
          "text": [
            "while I pondered \n"
          ]
        }
      ]
    },
    {
      "cell_type": "code",
      "metadata": {
        "id": "M52P5_901Xme",
        "colab": {
          "base_uri": "https://localhost:8080/"
        },
        "outputId": "084b57d8-205a-4dfb-bf54-1ab142b95223"
      },
      "source": [
        "# How many characters are there in the 3rd entry in the words list?\n",
        "len(words[2])"
      ],
      "execution_count": 25,
      "outputs": [
        {
          "output_type": "execute_result",
          "data": {
            "text/plain": [
              "17"
            ]
          },
          "metadata": {},
          "execution_count": 25
        }
      ]
    },
    {
      "cell_type": "code",
      "metadata": {
        "id": "1G_Au1KQ1YVV",
        "colab": {
          "base_uri": "https://localhost:8080/"
        },
        "outputId": "bed54bc9-bd89-43ef-932f-7c6cf9b3dd37"
      },
      "source": [
        "# Make an empty list and use the append function to add to it the following numbers.\n",
        "num_list=[]\n",
        "num_list.append(16)\n",
        "num_list.append(25)\n",
        "num_list.append(121)\n",
        "num_list.append(169)\n",
        "num_list.append(225)\n",
        "# 16\n",
        "# 25\n",
        "# 121\n",
        "# 169\n",
        "# 225\n",
        "num_list"
      ],
      "execution_count": 27,
      "outputs": [
        {
          "output_type": "execute_result",
          "data": {
            "text/plain": [
              "[16, 25, 121, 169, 225]"
            ]
          },
          "metadata": {},
          "execution_count": 27
        }
      ]
    },
    {
      "cell_type": "code",
      "metadata": {
        "id": "F7JHfM771Z_-"
      },
      "source": [
        "# Make a list of two lists. Add to the first ``sub\" list the following words\n",
        "# 'One'\n",
        "# 'Two'\n",
        "# 'Three'\n",
        "#  and add to the second list\n",
        "# 1\n",
        "# 2\n",
        "# 3\n",
        "double_list = []\n",
        "word_list = ['One', 'Two', 'Three']\n",
        "number_list = [1,2,3]\n",
        "double_list.append(word_list)\n",
        "double_list.append(number_list)"
      ],
      "execution_count": 28,
      "outputs": []
    },
    {
      "cell_type": "code",
      "metadata": {
        "id": "zEZju2mq1bbe",
        "colab": {
          "base_uri": "https://localhost:8080/",
          "height": 36
        },
        "outputId": "ceb457f5-0f38-421a-cb7c-fefc4c688dd3"
      },
      "source": [
        "# Print out the entry with 'Two'\n",
        "double_list[0][1]"
      ],
      "execution_count": 30,
      "outputs": [
        {
          "output_type": "execute_result",
          "data": {
            "text/plain": [
              "'Two'"
            ],
            "application/vnd.google.colaboratory.intrinsic+json": {
              "type": "string"
            }
          },
          "metadata": {},
          "execution_count": 30
        }
      ]
    },
    {
      "cell_type": "code",
      "metadata": {
        "id": "e5Y2hZw01cjN",
        "colab": {
          "base_uri": "https://localhost:8080/"
        },
        "outputId": "1dc39c0e-67f4-497f-c09d-8159c2fcbc8d"
      },
      "source": [
        "# Print out the entry with 3\n",
        "double_list[1][-1]"
      ],
      "execution_count": 31,
      "outputs": [
        {
          "output_type": "execute_result",
          "data": {
            "text/plain": [
              "3"
            ]
          },
          "metadata": {},
          "execution_count": 31
        }
      ]
    },
    {
      "cell_type": "markdown",
      "metadata": {
        "id": "lkngXj8V1ffm"
      },
      "source": [
        "# Loops\n",
        "\n",
        "These exercises will allow you to test your understanding of loops in Python.\n",
        "\n",
        "(2 points each)"
      ]
    },
    {
      "cell_type": "code",
      "metadata": {
        "id": "GGiYk-9s1dUN",
        "colab": {
          "base_uri": "https://localhost:8080/"
        },
        "outputId": "f7d3f68f-ccf5-4f7e-ac22-853f3aaa9c00"
      },
      "source": [
        "# Use a while loop to print out the even numbers from 0-10 (inclusive)\n",
        "nums = 0\n",
        "while nums <= 10:\n",
        "  print(nums)\n",
        "  nums+=2"
      ],
      "execution_count": 35,
      "outputs": [
        {
          "output_type": "stream",
          "name": "stdout",
          "text": [
            "0\n",
            "2\n",
            "4\n",
            "6\n",
            "8\n",
            "10\n"
          ]
        }
      ]
    },
    {
      "cell_type": "code",
      "metadata": {
        "id": "kp_qKAgB1jK3",
        "colab": {
          "base_uri": "https://localhost:8080/"
        },
        "outputId": "b54dcfb4-be30-46a9-d23c-d2334c149cd0"
      },
      "source": [
        "# Use a for loop with the range function to print out the even numbers from 0-10 (inclusive)\n",
        "nums1=0\n",
        "for i in range(6):\n",
        "  print(nums1)\n",
        "  nums1+=2"
      ],
      "execution_count": 39,
      "outputs": [
        {
          "output_type": "stream",
          "name": "stdout",
          "text": [
            "0\n",
            "2\n",
            "4\n",
            "6\n",
            "8\n",
            "10\n"
          ]
        }
      ]
    },
    {
      "cell_type": "code",
      "metadata": {
        "id": "x5JOczHi1j-t",
        "colab": {
          "base_uri": "https://localhost:8080/"
        },
        "outputId": "0e6c1d75-71b4-40cc-a89b-4c31e1550435"
      },
      "source": [
        "# Use a for loop to add up the multiples of 3 that are less than 100.\n",
        "multiples = 3\n",
        "added_num = 0\n",
        "for i in range(0,100,3):\n",
        "  added_num +=i\n",
        "\n",
        "added_num"
      ],
      "execution_count": 89,
      "outputs": [
        {
          "output_type": "execute_result",
          "data": {
            "text/plain": [
              "1683"
            ]
          },
          "metadata": {},
          "execution_count": 89
        }
      ]
    },
    {
      "cell_type": "code",
      "metadata": {
        "id": "Gj025a-D1k3u",
        "colab": {
          "base_uri": "https://localhost:8080/"
        },
        "outputId": "79a95107-5301-4ff7-bc07-a1d3af45db37"
      },
      "source": [
        "# Use a while loop to add up the multiples of 3 (starting at 0), while the total is less than 100.\n",
        "multiples1 = 3\n",
        "added_num1 = 0\n",
        "while added_num1 < 100:\n",
        "  added_num1 += multiples1\n",
        "  multiples1 += 3\n",
        "\n",
        "added_num1"
      ],
      "execution_count": 70,
      "outputs": [
        {
          "output_type": "execute_result",
          "data": {
            "text/plain": [
              "108"
            ]
          },
          "metadata": {},
          "execution_count": 70
        }
      ]
    },
    {
      "cell_type": "code",
      "metadata": {
        "id": "TO_DbqrOQwiW",
        "colab": {
          "base_uri": "https://localhost:8080/"
        },
        "outputId": "2913d5f2-6dc5-47ee-c860-a40ef9f7a43c"
      },
      "source": [
        "fib = [1,2,3,5,8,13,21,34,55,84]\n",
        "\n",
        "# Loop over this list and print out the entries 2 ways:\n",
        "# * Just iterating over each entry in the list\n",
        "# * Using \"range\" and referencing the entries by index\n",
        "\n",
        "for i in range(len(fib)):\n",
        "  print(fib[i])\n",
        "\n",
        "print()\n",
        "\n",
        "for entry in fib:\n",
        "  print(entry)"
      ],
      "execution_count": 78,
      "outputs": [
        {
          "output_type": "stream",
          "name": "stdout",
          "text": [
            "1\n",
            "2\n",
            "3\n",
            "5\n",
            "8\n",
            "13\n",
            "21\n",
            "34\n",
            "55\n",
            "84\n",
            "\n",
            "1\n",
            "2\n",
            "3\n",
            "5\n",
            "8\n",
            "13\n",
            "21\n",
            "34\n",
            "55\n",
            "84\n"
          ]
        }
      ]
    },
    {
      "cell_type": "code",
      "metadata": {
        "id": "TZEkZjBL1l3t",
        "colab": {
          "base_uri": "https://localhost:8080/"
        },
        "outputId": "27643de4-3f98-4f81-e186-447f0f95bb7b"
      },
      "source": [
        "# Put all the entries in the following list into a single string and print that string, using a for loop.\n",
        "words = ['Once upon a ','midnight dreary ','while I pondered ','weak and weary']\n",
        "string = ''\n",
        "for word in words:\n",
        "  string += word\n",
        "\n",
        "print(string)"
      ],
      "execution_count": 97,
      "outputs": [
        {
          "output_type": "stream",
          "name": "stdout",
          "text": [
            "Once upon a midnight dreary while I pondered weak and weary\n"
          ]
        }
      ]
    },
    {
      "cell_type": "code",
      "metadata": {
        "id": "EP8hHaBz1nN2",
        "colab": {
          "base_uri": "https://localhost:8080/"
        },
        "outputId": "3f2f1938-5e59-4734-951b-1260faf9b566"
      },
      "source": [
        "# Fill a list with the first 1000 multiples of 13 (starting with 13). Verify your work by checking the length of the\n",
        "# list.\n",
        "numberss= np.arange(13,13000,13)\n",
        "numberss"
      ],
      "execution_count": 119,
      "outputs": [
        {
          "output_type": "execute_result",
          "data": {
            "text/plain": [
              "array([   13,    26,    39,    52,    65,    78,    91,   104,   117,\n",
              "         130,   143,   156,   169,   182,   195,   208,   221,   234,\n",
              "         247,   260,   273,   286,   299,   312,   325,   338,   351,\n",
              "         364,   377,   390,   403,   416,   429,   442,   455,   468,\n",
              "         481,   494,   507,   520,   533,   546,   559,   572,   585,\n",
              "         598,   611,   624,   637,   650,   663,   676,   689,   702,\n",
              "         715,   728,   741,   754,   767,   780,   793,   806,   819,\n",
              "         832,   845,   858,   871,   884,   897,   910,   923,   936,\n",
              "         949,   962,   975,   988,  1001,  1014,  1027,  1040,  1053,\n",
              "        1066,  1079,  1092,  1105,  1118,  1131,  1144,  1157,  1170,\n",
              "        1183,  1196,  1209,  1222,  1235,  1248,  1261,  1274,  1287,\n",
              "        1300,  1313,  1326,  1339,  1352,  1365,  1378,  1391,  1404,\n",
              "        1417,  1430,  1443,  1456,  1469,  1482,  1495,  1508,  1521,\n",
              "        1534,  1547,  1560,  1573,  1586,  1599,  1612,  1625,  1638,\n",
              "        1651,  1664,  1677,  1690,  1703,  1716,  1729,  1742,  1755,\n",
              "        1768,  1781,  1794,  1807,  1820,  1833,  1846,  1859,  1872,\n",
              "        1885,  1898,  1911,  1924,  1937,  1950,  1963,  1976,  1989,\n",
              "        2002,  2015,  2028,  2041,  2054,  2067,  2080,  2093,  2106,\n",
              "        2119,  2132,  2145,  2158,  2171,  2184,  2197,  2210,  2223,\n",
              "        2236,  2249,  2262,  2275,  2288,  2301,  2314,  2327,  2340,\n",
              "        2353,  2366,  2379,  2392,  2405,  2418,  2431,  2444,  2457,\n",
              "        2470,  2483,  2496,  2509,  2522,  2535,  2548,  2561,  2574,\n",
              "        2587,  2600,  2613,  2626,  2639,  2652,  2665,  2678,  2691,\n",
              "        2704,  2717,  2730,  2743,  2756,  2769,  2782,  2795,  2808,\n",
              "        2821,  2834,  2847,  2860,  2873,  2886,  2899,  2912,  2925,\n",
              "        2938,  2951,  2964,  2977,  2990,  3003,  3016,  3029,  3042,\n",
              "        3055,  3068,  3081,  3094,  3107,  3120,  3133,  3146,  3159,\n",
              "        3172,  3185,  3198,  3211,  3224,  3237,  3250,  3263,  3276,\n",
              "        3289,  3302,  3315,  3328,  3341,  3354,  3367,  3380,  3393,\n",
              "        3406,  3419,  3432,  3445,  3458,  3471,  3484,  3497,  3510,\n",
              "        3523,  3536,  3549,  3562,  3575,  3588,  3601,  3614,  3627,\n",
              "        3640,  3653,  3666,  3679,  3692,  3705,  3718,  3731,  3744,\n",
              "        3757,  3770,  3783,  3796,  3809,  3822,  3835,  3848,  3861,\n",
              "        3874,  3887,  3900,  3913,  3926,  3939,  3952,  3965,  3978,\n",
              "        3991,  4004,  4017,  4030,  4043,  4056,  4069,  4082,  4095,\n",
              "        4108,  4121,  4134,  4147,  4160,  4173,  4186,  4199,  4212,\n",
              "        4225,  4238,  4251,  4264,  4277,  4290,  4303,  4316,  4329,\n",
              "        4342,  4355,  4368,  4381,  4394,  4407,  4420,  4433,  4446,\n",
              "        4459,  4472,  4485,  4498,  4511,  4524,  4537,  4550,  4563,\n",
              "        4576,  4589,  4602,  4615,  4628,  4641,  4654,  4667,  4680,\n",
              "        4693,  4706,  4719,  4732,  4745,  4758,  4771,  4784,  4797,\n",
              "        4810,  4823,  4836,  4849,  4862,  4875,  4888,  4901,  4914,\n",
              "        4927,  4940,  4953,  4966,  4979,  4992,  5005,  5018,  5031,\n",
              "        5044,  5057,  5070,  5083,  5096,  5109,  5122,  5135,  5148,\n",
              "        5161,  5174,  5187,  5200,  5213,  5226,  5239,  5252,  5265,\n",
              "        5278,  5291,  5304,  5317,  5330,  5343,  5356,  5369,  5382,\n",
              "        5395,  5408,  5421,  5434,  5447,  5460,  5473,  5486,  5499,\n",
              "        5512,  5525,  5538,  5551,  5564,  5577,  5590,  5603,  5616,\n",
              "        5629,  5642,  5655,  5668,  5681,  5694,  5707,  5720,  5733,\n",
              "        5746,  5759,  5772,  5785,  5798,  5811,  5824,  5837,  5850,\n",
              "        5863,  5876,  5889,  5902,  5915,  5928,  5941,  5954,  5967,\n",
              "        5980,  5993,  6006,  6019,  6032,  6045,  6058,  6071,  6084,\n",
              "        6097,  6110,  6123,  6136,  6149,  6162,  6175,  6188,  6201,\n",
              "        6214,  6227,  6240,  6253,  6266,  6279,  6292,  6305,  6318,\n",
              "        6331,  6344,  6357,  6370,  6383,  6396,  6409,  6422,  6435,\n",
              "        6448,  6461,  6474,  6487,  6500,  6513,  6526,  6539,  6552,\n",
              "        6565,  6578,  6591,  6604,  6617,  6630,  6643,  6656,  6669,\n",
              "        6682,  6695,  6708,  6721,  6734,  6747,  6760,  6773,  6786,\n",
              "        6799,  6812,  6825,  6838,  6851,  6864,  6877,  6890,  6903,\n",
              "        6916,  6929,  6942,  6955,  6968,  6981,  6994,  7007,  7020,\n",
              "        7033,  7046,  7059,  7072,  7085,  7098,  7111,  7124,  7137,\n",
              "        7150,  7163,  7176,  7189,  7202,  7215,  7228,  7241,  7254,\n",
              "        7267,  7280,  7293,  7306,  7319,  7332,  7345,  7358,  7371,\n",
              "        7384,  7397,  7410,  7423,  7436,  7449,  7462,  7475,  7488,\n",
              "        7501,  7514,  7527,  7540,  7553,  7566,  7579,  7592,  7605,\n",
              "        7618,  7631,  7644,  7657,  7670,  7683,  7696,  7709,  7722,\n",
              "        7735,  7748,  7761,  7774,  7787,  7800,  7813,  7826,  7839,\n",
              "        7852,  7865,  7878,  7891,  7904,  7917,  7930,  7943,  7956,\n",
              "        7969,  7982,  7995,  8008,  8021,  8034,  8047,  8060,  8073,\n",
              "        8086,  8099,  8112,  8125,  8138,  8151,  8164,  8177,  8190,\n",
              "        8203,  8216,  8229,  8242,  8255,  8268,  8281,  8294,  8307,\n",
              "        8320,  8333,  8346,  8359,  8372,  8385,  8398,  8411,  8424,\n",
              "        8437,  8450,  8463,  8476,  8489,  8502,  8515,  8528,  8541,\n",
              "        8554,  8567,  8580,  8593,  8606,  8619,  8632,  8645,  8658,\n",
              "        8671,  8684,  8697,  8710,  8723,  8736,  8749,  8762,  8775,\n",
              "        8788,  8801,  8814,  8827,  8840,  8853,  8866,  8879,  8892,\n",
              "        8905,  8918,  8931,  8944,  8957,  8970,  8983,  8996,  9009,\n",
              "        9022,  9035,  9048,  9061,  9074,  9087,  9100,  9113,  9126,\n",
              "        9139,  9152,  9165,  9178,  9191,  9204,  9217,  9230,  9243,\n",
              "        9256,  9269,  9282,  9295,  9308,  9321,  9334,  9347,  9360,\n",
              "        9373,  9386,  9399,  9412,  9425,  9438,  9451,  9464,  9477,\n",
              "        9490,  9503,  9516,  9529,  9542,  9555,  9568,  9581,  9594,\n",
              "        9607,  9620,  9633,  9646,  9659,  9672,  9685,  9698,  9711,\n",
              "        9724,  9737,  9750,  9763,  9776,  9789,  9802,  9815,  9828,\n",
              "        9841,  9854,  9867,  9880,  9893,  9906,  9919,  9932,  9945,\n",
              "        9958,  9971,  9984,  9997, 10010, 10023, 10036, 10049, 10062,\n",
              "       10075, 10088, 10101, 10114, 10127, 10140, 10153, 10166, 10179,\n",
              "       10192, 10205, 10218, 10231, 10244, 10257, 10270, 10283, 10296,\n",
              "       10309, 10322, 10335, 10348, 10361, 10374, 10387, 10400, 10413,\n",
              "       10426, 10439, 10452, 10465, 10478, 10491, 10504, 10517, 10530,\n",
              "       10543, 10556, 10569, 10582, 10595, 10608, 10621, 10634, 10647,\n",
              "       10660, 10673, 10686, 10699, 10712, 10725, 10738, 10751, 10764,\n",
              "       10777, 10790, 10803, 10816, 10829, 10842, 10855, 10868, 10881,\n",
              "       10894, 10907, 10920, 10933, 10946, 10959, 10972, 10985, 10998,\n",
              "       11011, 11024, 11037, 11050, 11063, 11076, 11089, 11102, 11115,\n",
              "       11128, 11141, 11154, 11167, 11180, 11193, 11206, 11219, 11232,\n",
              "       11245, 11258, 11271, 11284, 11297, 11310, 11323, 11336, 11349,\n",
              "       11362, 11375, 11388, 11401, 11414, 11427, 11440, 11453, 11466,\n",
              "       11479, 11492, 11505, 11518, 11531, 11544, 11557, 11570, 11583,\n",
              "       11596, 11609, 11622, 11635, 11648, 11661, 11674, 11687, 11700,\n",
              "       11713, 11726, 11739, 11752, 11765, 11778, 11791, 11804, 11817,\n",
              "       11830, 11843, 11856, 11869, 11882, 11895, 11908, 11921, 11934,\n",
              "       11947, 11960, 11973, 11986, 11999, 12012, 12025, 12038, 12051,\n",
              "       12064, 12077, 12090, 12103, 12116, 12129, 12142, 12155, 12168,\n",
              "       12181, 12194, 12207, 12220, 12233, 12246, 12259, 12272, 12285,\n",
              "       12298, 12311, 12324, 12337, 12350, 12363, 12376, 12389, 12402,\n",
              "       12415, 12428, 12441, 12454, 12467, 12480, 12493, 12506, 12519,\n",
              "       12532, 12545, 12558, 12571, 12584, 12597, 12610, 12623, 12636,\n",
              "       12649, 12662, 12675, 12688, 12701, 12714, 12727, 12740, 12753,\n",
              "       12766, 12779, 12792, 12805, 12818, 12831, 12844, 12857, 12870,\n",
              "       12883, 12896, 12909, 12922, 12935, 12948, 12961, 12974, 12987])"
            ]
          },
          "metadata": {},
          "execution_count": 119
        }
      ]
    },
    {
      "cell_type": "markdown",
      "metadata": {
        "id": "i-AnL1XWnHpt"
      },
      "source": [
        "# Conditionals\n",
        "\n",
        "These exercises will allow you to test your understanding of conditional statments in Python.\n",
        "\n",
        "(2 points each)"
      ]
    },
    {
      "cell_type": "code",
      "metadata": {
        "id": "4D-yJ8nnyKeg",
        "colab": {
          "base_uri": "https://localhost:8080/"
        },
        "outputId": "1848c415-fd71-4931-f0e7-80d67e06df30"
      },
      "source": [
        "# Test to see what is larger (without printing the answers to the\n",
        "# multiplication to the screen)\n",
        "#\n",
        "x = 25*32\n",
        "# or\n",
        "y = 17*49\n",
        "#\n",
        "# Print which product is larger to the screen.\n",
        "if x > y:\n",
        "  print(f'x: {x} is greater than y: {y}')\n",
        "else:\n",
        "  print(f'y: {y} is greater than x: {x}')"
      ],
      "execution_count": 100,
      "outputs": [
        {
          "output_type": "stream",
          "name": "stdout",
          "text": [
            "y: 833 is greater than x: 800\n"
          ]
        }
      ]
    },
    {
      "cell_type": "code",
      "metadata": {
        "id": "-m9-3H_eyZeX",
        "colab": {
          "base_uri": "https://localhost:8080/"
        },
        "outputId": "b5a94c14-a71a-45b0-f02d-b6d425e89743"
      },
      "source": [
        "# Test whether or not 18/2 is the same as 36/4\n",
        "x1 = 18/2\n",
        "y1 = 36/4\n",
        "if x1 == y1:\n",
        "  print(f'x1: {x1} and y1: {y1} are equal')\n",
        "else:\n",
        "  print(f'x1: {x1} and y1: {y1} are not equal')"
      ],
      "execution_count": 101,
      "outputs": [
        {
          "output_type": "stream",
          "name": "stdout",
          "text": [
            "x1: 9.0 and y1: 9.0 are equal\n"
          ]
        }
      ]
    },
    {
      "cell_type": "code",
      "metadata": {
        "id": "wfyraanJyalj",
        "colab": {
          "base_uri": "https://localhost:8080/"
        },
        "outputId": "1fb3a0f5-ed6e-4c48-b949-1370d7552f1a"
      },
      "source": [
        "# Test whether or not 18/2 is the same as 36.0/4.0\n",
        "x2 = 18/2\n",
        "y2 = 36.0/4.0\n",
        "if x1 == y1:\n",
        "  print(f'x1: {x2} and y1: {y2} are equal')\n",
        "else:\n",
        "  print(f'x1: {x2} and y1: {y2} are not equal')"
      ],
      "execution_count": 103,
      "outputs": [
        {
          "output_type": "stream",
          "name": "stdout",
          "text": [
            "x1: 9.0 and y1: 9.0 are equal\n"
          ]
        }
      ]
    },
    {
      "cell_type": "code",
      "metadata": {
        "id": "aUJ3IR5qybeu",
        "colab": {
          "base_uri": "https://localhost:8080/"
        },
        "outputId": "d2b58b87-a6d6-462a-d236-522e2fe4b1e2"
      },
      "source": [
        "# Test whether or not 1/2 is the same as 1.0/2.0\n",
        "x3 = 1/2\n",
        "y3 = 1.0/2.0\n",
        "if x3 == y3:\n",
        "  print(f'x1: {x3} and y1: {y3} are equal')\n",
        "else:\n",
        "  print(f'x1: {x3} and y1: {y3} are not equal')"
      ],
      "execution_count": 104,
      "outputs": [
        {
          "output_type": "stream",
          "name": "stdout",
          "text": [
            "x1: 0.5 and y1: 0.5 are equal\n"
          ]
        }
      ]
    },
    {
      "cell_type": "code",
      "metadata": {
        "id": "S9aKmmQ8yc4Q",
        "colab": {
          "base_uri": "https://localhost:8080/"
        },
        "outputId": "cdc59147-6dcc-4bf4-f206-dee18b1e2857"
      },
      "source": [
        "# Are these two strings equal? If not write some code to figure out what is different.\n",
        "x = \"00000000000000000000000000000000000000000000000000\"\n",
        "y = \"00000000000000000000000000000000000000000000O00000\"\n",
        "if x == y:\n",
        "  print('The lists are identical')\n",
        "else:\n",
        "  if len(x) == len(y):\n",
        "    for i in range(len(x)):\n",
        "      if x[i] == y[i]:\n",
        "        continue\n",
        "      else:\n",
        "        print(f\"There is a difference between x and y at character:{i}\")\n",
        "  else:\n",
        "    print('You over complicated it.')"
      ],
      "execution_count": 106,
      "outputs": [
        {
          "output_type": "stream",
          "name": "stdout",
          "text": [
            "There is a difference between x and y at character:44\n"
          ]
        }
      ]
    },
    {
      "cell_type": "markdown",
      "metadata": {
        "id": "zXiidCtvnwCq"
      },
      "source": [
        "# Functions\n",
        "\n",
        "Write a function called ```feet2miles``` that takes in 1 argument, ```feet``` and returns the equivalent number of miles. Set the default value of feet to be 100.\n",
        "\n",
        "For reference, there are 5280 feet in a mile.\n",
        "\n",
        "(5 points)"
      ]
    },
    {
      "cell_type": "code",
      "metadata": {
        "id": "Db55VxfCnw3B",
        "colab": {
          "base_uri": "https://localhost:8080/"
        },
        "outputId": "d9329c39-9f00-4d4b-af16-a1bf1d878874"
      },
      "source": [
        "# Your code here\n",
        "def feet2miles(feet=100):\n",
        "  miles = feet/5280\n",
        "\n",
        "  return miles\n",
        "\n",
        "\n",
        "\n",
        "# This part is for testing the above.\n",
        "\n",
        "m = feet2miles(5280)\n",
        "print(m) # Should be 1\n",
        "\n",
        "m = feet2miles(1)\n",
        "print(m)\n",
        "\n",
        "m = feet2miles(1000)\n",
        "print(m)"
      ],
      "execution_count": 115,
      "outputs": [
        {
          "output_type": "stream",
          "name": "stdout",
          "text": [
            "1.0\n",
            "0.0001893939393939394\n",
            "0.1893939393939394\n"
          ]
        }
      ]
    },
    {
      "cell_type": "code",
      "source": [
        "# Make an array of values in feet, ranging from 1000 to 20000, in steps of 1000\n",
        "# using the np.arange function\n",
        "myfeet = np.arange(1000,20000,1000)\n",
        "\n",
        "# Use your feet2miles function to create a second array,\n",
        "# which is the equivalent of myfeet but is instead mymiles\n",
        "# this should be only one line of code!\n",
        "mymiles = feet2miles(myfeet)\n",
        "\n",
        "print(f'myfeet list: {myfeet} \\n mymiles list: {mymiles}')\n",
        "\n"
      ],
      "metadata": {
        "id": "eXKYot3Tprt4",
        "colab": {
          "base_uri": "https://localhost:8080/"
        },
        "outputId": "2ec5f741-e35f-4816-c81f-9b438534469d"
      },
      "execution_count": 116,
      "outputs": [
        {
          "output_type": "stream",
          "name": "stdout",
          "text": [
            "myfeet list: [ 1000  2000  3000  4000  5000  6000  7000  8000  9000 10000 11000 12000\n",
            " 13000 14000 15000 16000 17000 18000 19000] \n",
            " mymiles list: [0.18939394 0.37878788 0.56818182 0.75757576 0.9469697  1.13636364\n",
            " 1.32575758 1.51515152 1.70454545 1.89393939 2.08333333 2.27272727\n",
            " 2.46212121 2.65151515 2.84090909 3.03030303 3.21969697 3.40909091\n",
            " 3.59848485]\n"
          ]
        }
      ]
    },
    {
      "cell_type": "markdown",
      "metadata": {
        "id": "ZfpbRMrF0gc1"
      },
      "source": [
        "# Plotting"
      ]
    },
    {
      "cell_type": "markdown",
      "metadata": {
        "id": "LWKVeMFsHR1R"
      },
      "source": [
        "## Kinematics\n",
        "\n",
        "(5 points)\n",
        "\n",
        "Suppose you are standing on a cliff 50 meters high. You throw a ball almost straight up with a velocity of 15 m/s. It misses the edge of the cliff on the way down so it will continue all the way to the ground below.\n",
        "\n",
        "Neglecting air resistance, solve for the height, velocity, and acceleration of the ball as a function of time.  Write your solution on a whiteboard and check your results with your instructor.\n",
        "\n",
        "Once you have your solution approved, write the functions that you determined here.  Be sure to use the latex/markup features to display the equations in a nice format.   (2 points)\n",
        "\n",
        "**YOUR EQUATIONS GO HERE**\n",
        "\n",
        "Then make some plots of the (6 points)\n",
        "\n",
        "* Acceleration vs. time\n",
        "* Velocity vs. time\n",
        "* Position vs. time\n",
        "\n",
        "Make these plots for the time period when it is thrown in the air until it lands on the ground below.\n",
        "\n",
        "$$ y = 50 + 15t - 4.9t^2$$\n",
        "$$ v = 15 - 9.81t$$\n",
        "$$ a = -9.81 $$"
      ]
    },
    {
      "cell_type": "code",
      "source": [
        "import matplotlib.pyplot as plt"
      ],
      "metadata": {
        "id": "WjFD7JFMCPSr"
      },
      "execution_count": 122,
      "outputs": []
    },
    {
      "cell_type": "code",
      "metadata": {
        "id": "5lOCmSa8oLL3",
        "colab": {
          "base_uri": "https://localhost:8080/",
          "height": 1000
        },
        "outputId": "05432dd1-46f2-41d5-a7cb-9eb21c8b6846"
      },
      "source": [
        "# Your code here\n",
        "t = np.arange(0,10,.1)\n",
        "y = 50 + 15 * t - 4.9 * (t**2)\n",
        "v = 15 - 9.81 * t\n",
        "g = 9.81\n",
        "a = (-1) * g * np.ones(len(t))\n",
        "\n",
        "\n",
        "# Position Plot\n",
        "plt.figure(figsize=(10,15))\n",
        "plt.subplot(3,1,1)\n",
        "plt.plot(t,y,label=r'$Position: y = 50 + 15t - 4.9t^2$')\n",
        "plt.xlim(0,6)\n",
        "plt.ylim(0,65)\n",
        "plt.ylabel('Position (m)')\n",
        "plt.xlabel('Time (s)')\n",
        "plt.title('Position vs Time')\n",
        "plt.legend()\n",
        "\n",
        "# Velocity Plot\n",
        "plt.subplot(3,1,2)\n",
        "plt.plot(t,v,label=r'$Velocity: v = 15 - 9.81t $')\n",
        "plt.xlim(0,4)\n",
        "plt.ylim(-20,20)\n",
        "plt.ylabel(r'$Velocity (\\frac{m}{s})$')\n",
        "plt.xlabel('Time (s)')\n",
        "plt.title('Velocity vs Time')\n",
        "plt.legend()\n",
        "\n",
        "# Acceleration Plot\n",
        "plt.subplot(3,1,3)\n",
        "plt.plot(t,a,label=r'$Acceleration: -9.81 \\frac{m}{s^2}$')\n",
        "plt.xlim(0,4)\n",
        "plt.ylabel(r'$Acceleration (\\frac{m}{s^2})$')\n",
        "plt.xlabel('Time (s)')\n",
        "plt.title('Acceleration vs Time')\n",
        "plt.legend()"
      ],
      "execution_count": 168,
      "outputs": [
        {
          "output_type": "execute_result",
          "data": {
            "text/plain": [
              "<matplotlib.legend.Legend at 0x7bee32605ae0>"
            ]
          },
          "metadata": {},
          "execution_count": 168
        },
        {
          "output_type": "display_data",
          "data": {
            "text/plain": [
              "<Figure size 1000x1500 with 3 Axes>"
            ],
            "image/png": "[encoded data removed]"
          },
          "metadata": {}
        }
      ]
    },
    {
      "cell_type": "markdown",
      "source": [
        "## Make a plot of $sin(\\theta)$ and $cos(\\theta)$\n",
        "\n",
        "(5 points)\n",
        "\n",
        "* make a plot of $sin(\\theta)$ and $cos(\\theta)$ as a function of theta, $\\theta$.\n",
        "* theta should be in radians, with theta ranging from $0 \\le \\theta \\le 2\\pi$. (Hint: use np.linspace to create the theta array, with 100 elements.)\n",
        "* make a plot with 1 column and two rows, and plot sin in the top row and cosine in the bottom row.  You can use plt.subplot to make multi-panel plots.\n",
        "\n",
        "```\n",
        "plt.subplot(2,1,1)\n",
        "```\n",
        "* NOTE: for this exercise, you should use the trig functions from numpy, e.g. np.sin and np.cos.\n",
        "\n",
        "(4 points)"
      ],
      "metadata": {
        "id": "j2mlCHh4oMhx"
      }
    },
    {
      "cell_type": "code",
      "source": [
        "# Your code here\n",
        "theta = np.linspace(0,2*pi,100)\n",
        "sin = np.sin(theta)\n",
        "cos = np.cos(theta)\n",
        "\n",
        "# Sin Plot\n",
        "plt.figure(figsize=(10,10))\n",
        "plt.subplot(2,1,1)\n",
        "plt.plot(theta, sin)\n",
        "plt.xlabel('Radians')\n",
        "plt.ylabel('Radians')\n",
        "plt.title('Sin (radians)')\n",
        "\n",
        "# Cos Plot\n",
        "plt.subplot(2,1,2)\n",
        "plt.plot(theta,cos)\n",
        "plt.xlabel('Radians')\n",
        "plt.ylabel('Radians')\n",
        "plt.title('Cos (radians)')"
      ],
      "metadata": {
        "id": "FA-1b2RGo9Dz",
        "colab": {
          "base_uri": "https://localhost:8080/",
          "height": 889
        },
        "outputId": "16ba6fe3-e8a5-4105-bfe3-6c05e4158a51"
      },
      "execution_count": 170,
      "outputs": [
        {
          "output_type": "execute_result",
          "data": {
            "text/plain": [
              "Text(0.5, 1.0, 'Cos (radians)')"
            ]
          },
          "metadata": {},
          "execution_count": 170
        },
        {
          "output_type": "display_data",
          "data": {
            "text/plain": [
              "<Figure size 1000x1000 with 2 Axes>"
            ],
            "image/png": "[encoded data removed]"
          },
          "metadata": {}
        }
      ]
    }
  ]
}