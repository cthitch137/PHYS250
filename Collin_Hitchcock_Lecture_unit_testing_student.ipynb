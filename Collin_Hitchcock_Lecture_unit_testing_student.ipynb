{
  "nbformat": 4,
  "nbformat_minor": 0,
  "metadata": {
    "colab": {
      "provenance": [],
      "include_colab_link": true
    },
    "kernelspec": {
      "name": "python3",
      "display_name": "Python 3"
    },
    "language_info": {
      "name": "python"
    }
  },
  "cells": [
    {
      "cell_type": "markdown",
      "metadata": {
        "id": "view-in-github",
        "colab_type": "text"
      },
      "source": [
        "<a href=\"https://colab.research.google.com/github/cthitch137/PHYS250/blob/main/Collin_Hitchcock_Lecture_unit_testing_student.ipynb\" target=\"_parent\"><img src=\"https://colab.research.google.com/assets/colab-badge.svg\" alt=\"Open In Colab\"/></a>"
      ]
    },
    {
      "cell_type": "markdown",
      "source": [
        "# Testing\n",
        "\n",
        "* When writing functions and programs, we should be sure to test the output.\n",
        "* You can compare the output to what is expected using assert."
      ],
      "metadata": {
        "id": "oFhxG5FhwaT9"
      }
    },
    {
      "cell_type": "code",
      "execution_count": 12,
      "metadata": {
        "id": "duhXt5_ZHLuh"
      },
      "outputs": [],
      "source": [
        "# define a function that multiplies by 2 and subtracts one\n",
        "def mult2sub1(var):\n",
        "  \"\"\"This function takes one input number (var), multiplies it by two and then subtracts one\"\"\"\n",
        "  out = (var * 2) - 1\n",
        "\n",
        "  return out\n",
        "\n"
      ]
    },
    {
      "cell_type": "code",
      "source": [
        "# use assert to test the output when the input is equal to x\n",
        "assert(mult2sub1(3)) == 5\n",
        "assert(mult2sub1(1)) == 1\n",
        "assert(mult2sub1(2)) == 3\n",
        "assert(mult2sub1(-1)) == -3"
      ],
      "metadata": {
        "id": "rnke5hHwqNe5"
      },
      "execution_count": 5,
      "outputs": []
    },
    {
      "cell_type": "markdown",
      "source": [
        "# Using `try` and `except`\n",
        "\n",
        "* We can make this a little more sophisticated using the try/except commands.\n",
        "* This will allow us to give information back to the user without causing the testing cell to crash.\n",
        "* We could also tailor the feedback based on what the function returns.\n"
      ],
      "metadata": {
        "id": "DQ1gyLLQyNaD"
      }
    },
    {
      "cell_type": "code",
      "source": [
        "# demo : use try and except to make the code more robust\n",
        "\n",
        "# if the function returns the correct value, congratulate the user\n",
        "\n",
        "# if the function returns a wrong value, print error message to user\n",
        "\n",
        "try:\n",
        "  assert(mult2sub1(0)) == -1\n",
        "except AssertionError:\n",
        "  print('Your function returned the wrong value')\n",
        "\n",
        "try:\n",
        "  assert(mult2sub1(0)) == -2\n",
        "except AssertionError:\n",
        "  print('Your function returned the wrong value.')\n",
        "  print(f\"Looked for: -2 \\n Found: {mult2sub1(0)}\")"
      ],
      "metadata": {
        "id": "C5EGegacrM0C",
        "colab": {
          "base_uri": "https://localhost:8080/"
        },
        "outputId": "c7ff738b-9c78-4a4f-ec57-1f683a3d2220"
      },
      "execution_count": 14,
      "outputs": [
        {
          "output_type": "stream",
          "name": "stdout",
          "text": [
            "Your function returned the wrong value.\n",
            "Looked for: -2 \n",
            " Found: -1\n"
          ]
        }
      ]
    },
    {
      "cell_type": "markdown",
      "source": [
        "# Your turn\n",
        "\n",
        "follow the instructions below to create a function and test it."
      ],
      "metadata": {
        "id": "OK1Oo-n2yY0O"
      }
    },
    {
      "cell_type": "code",
      "source": [
        "# make a function that squares the input\n",
        "def square(var):\n",
        "  \"\"\" This function takes in one number (var), squares it, then returns that number as the output. \"\"\"\n",
        "  out = var**2\n",
        "\n",
        "  return out\n"
      ],
      "metadata": {
        "id": "wWFUF590riet"
      },
      "execution_count": 16,
      "outputs": []
    },
    {
      "cell_type": "code",
      "source": [
        "# test with a positive number\n",
        "\n",
        "# test with a negative number\n",
        "\n",
        "# test with zero\n",
        "\n",
        "try:\n",
        "  assert(square(2)) == 4\n",
        "  assert(square(-3)) == 9\n",
        "  assert(square(0)) == 0\n",
        "except AssertionError:\n",
        "  print('Your function returned a wrong value.')\n",
        "  print(f\"Looked for: 4 \\n Found: {square(2)}\")\n",
        "  print(f\"Looked for: 9 \\n Found: {square(-3)}\")\n",
        "  print(f\"Looked for: 0 \\n Found: {square(0)}\")"
      ],
      "metadata": {
        "id": "5Eb332XWm2sn"
      },
      "execution_count": 17,
      "outputs": []
    },
    {
      "cell_type": "markdown",
      "source": [
        "# Create your own example\n",
        "\n",
        "* Create your own function\n",
        "* develop a test code to check the output of the function"
      ],
      "metadata": {
        "id": "f5hjrr1sm0d6"
      }
    },
    {
      "cell_type": "code",
      "source": [
        "def sub10mult2(var):\n",
        "  \"\"\" This function takes in a number (var), subtracts 10, multiplies by 2 and returns the result (out) \"\"\"\n",
        "  out = (var-10)*2\n",
        "  if out >= 0:\n",
        "    out = out\n",
        "  else:\n",
        "    out = out*-1\n",
        "\n",
        "  return out"
      ],
      "metadata": {
        "id": "NJapLC3EDoa6"
      },
      "execution_count": 18,
      "outputs": []
    },
    {
      "cell_type": "code",
      "source": [
        "try:\n",
        "  assert(sub10mult2(0))==20\n",
        "  assert(sub10mult2(10))==0\n",
        "  assert(sub10mult2(30))==40\n",
        "except AssertionError:\n",
        "  print('Your function returned a wrong value.')"
      ],
      "metadata": {
        "id": "CjXKQvQgEa3W"
      },
      "execution_count": 20,
      "outputs": []
    },
    {
      "cell_type": "code",
      "source": [],
      "metadata": {
        "id": "Q7rg2oJ6Esss"
      },
      "execution_count": null,
      "outputs": []
    }
  ]
}